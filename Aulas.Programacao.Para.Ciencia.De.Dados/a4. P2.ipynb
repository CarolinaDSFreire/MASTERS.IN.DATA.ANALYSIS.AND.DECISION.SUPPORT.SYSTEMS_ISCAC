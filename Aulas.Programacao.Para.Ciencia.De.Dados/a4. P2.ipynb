{
 "cells": [
  {
   "cell_type": "markdown",
   "metadata": {},
   "source": [
    "# AULA 4. 21-10 (PARTE 2)\n",
    "\n",
    "## BIBLIOTECA NUMPY"
   ]
  },
  {
   "cell_type": "code",
   "execution_count": 1,
   "metadata": {},
   "outputs": [
    {
     "name": "stdout",
     "output_type": "stream",
     "text": [
      "6\n"
     ]
    }
   ],
   "source": [
    "list_2D = [\n",
    "    [1,2,3],\n",
    "    [4,5,6],\n",
    "    [7,8,9]\n",
    "    ]\n",
    "print(list_2D[1][2])"
   ]
  },
  {
   "cell_type": "code",
   "execution_count": 11,
   "metadata": {},
   "outputs": [
    {
     "name": "stdout",
     "output_type": "stream",
     "text": [
      "[1 2 3]\n",
      "[1 2 3]\n",
      "\n",
      "[1, 2, 3]\n",
      "\n",
      "[1 2 3]\n",
      "\n",
      "<class 'list'>\n",
      "<class 'numpy.ndarray'>\n"
     ]
    }
   ],
   "source": [
    "#!pip numpy\n",
    "import numpy as np\n",
    "\n",
    "arr1 = numpy.array([1,2,3])\n",
    "arr2 = np.array([1,2,3])\n",
    "\n",
    "print(arr1)\n",
    "print(arr2)\n",
    "\n",
    "print()\n",
    "lst1 = [1,2,3]\n",
    "print(lst1) #lista tem vírgula\n",
    "\n",
    "print()\n",
    "arr3 = np.array(lst1)\n",
    "print(arr3) #array não tem vírgula\n",
    "\n",
    "print()\n",
    "print(type(lst1))\n",
    "print(type(arr3))"
   ]
  },
  {
   "cell_type": "code",
   "execution_count": 16,
   "metadata": {},
   "outputs": [
    {
     "name": "stdout",
     "output_type": "stream",
     "text": [
      "[1 2 3]\n",
      "[0 1 2 3 4]\n",
      "[0. 0. 0. 0. 0.]\n",
      "[1. 1. 1. 1. 1.]\n",
      "[1.         1.44444444 1.88888889 2.33333333 2.77777778 3.22222222\n",
      " 3.66666667 4.11111111 4.55555556 5.        ]\n",
      "[[0. 0. 0. 0. 0. 0. 0.]\n",
      " [0. 0. 0. 0. 0. 0. 0.]\n",
      " [0. 0. 0. 0. 0. 0. 0.]]\n",
      "[[1. 0. 0.]\n",
      " [0. 1. 0.]\n",
      " [0. 0. 1.]]\n",
      "[[9 9 9 9 9 9 9]\n",
      " [9 9 9 9 9 9 9]\n",
      " [9 9 9 9 9 9 9]]\n"
     ]
    }
   ],
   "source": [
    "\n",
    "arr5 = np.array([1,2,3])\n",
    "print(arr5)\n",
    "arr6 = np.arange(5)\n",
    "print(arr6)\n",
    "arr7 = np.zeros(5)\n",
    "print(arr7)\n",
    "arr8 = np.ones(5)\n",
    "print(arr8)\n",
    "arr9 = np.linspace(1,5,10)\n",
    "print(arr9)\n",
    "arr10 = np.zeros((3,7)) #3 linhas e 7 colunas\n",
    "print(arr10)\n",
    "arr11 = np.eye(3) \n",
    "print(arr11)\n",
    "arr12 = np.full((3,7),9) \n",
    "print(arr12)"
   ]
  }
 ],
 "metadata": {
  "kernelspec": {
   "display_name": "Python 3",
   "language": "python",
   "name": "python3"
  },
  "language_info": {
   "codemirror_mode": {
    "name": "ipython",
    "version": 3
   },
   "file_extension": ".py",
   "mimetype": "text/x-python",
   "name": "python",
   "nbconvert_exporter": "python",
   "pygments_lexer": "ipython3",
   "version": "3.11.5"
  }
 },
 "nbformat": 4,
 "nbformat_minor": 2
}
