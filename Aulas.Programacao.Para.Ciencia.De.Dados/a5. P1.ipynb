{
 "cells": [
  {
   "cell_type": "markdown",
   "metadata": {},
   "source": [
    "# AULA 5. 28-10 (PARTE 1)\n",
    "\n",
    "## "
   ]
  },
  {
   "cell_type": "code",
   "execution_count": 2,
   "metadata": {},
   "outputs": [
    {
     "name": "stdout",
     "output_type": "stream",
     "text": [
      "(1, 9)\n",
      "min: 1\n",
      "min:1, max:9\n"
     ]
    }
   ],
   "source": [
    "# Crie e teste uma função para descobrir o mínimo e o máximo de uma lista de valores\n",
    "#1. Com funções built-n\n",
    "#2. Sem funções built-in\n",
    "\n",
    "lst1 = [2,7,5,1,9]\n",
    "\n",
    "min(lst1)\n",
    "\n",
    "#lista.[função()] #funções associadas as listas \n",
    "#lista.[propriedade] #propriedades associadas as listas\n",
    "#funções(lista) # passarem uma lista para uma função built-in\n",
    "\n",
    "def f1(lst):\n",
    "    return min(lst1), max(lst1)\n",
    "print(f1(lst1))\n",
    "\n",
    "print(f'min: {f1(lst1)[0]}')\n",
    "\n",
    "minimo, maximo = f1(lst1)\n",
    "print(f'min:{minimo}, max:{maximo}')"
   ]
  },
  {
   "cell_type": "code",
   "execution_count": 3,
   "metadata": {},
   "outputs": [
    {
     "name": "stdout",
     "output_type": "stream",
     "text": [
      "(1, 9)\n",
      "min: 1\n",
      "min:1, max:9\n"
     ]
    }
   ],
   "source": [
    "def f2(lst):\n",
    "    minimo = lst[0]\n",
    "    for ele in lst:\n",
    "        if ele < minimo:\n",
    "            minimo = ele\n",
    "    maximo = lst[0]\n",
    "    for ele in lst:\n",
    "        if ele >maximo:\n",
    "            maximo = ele\n",
    "    return minimo, maximo\n",
    "\n",
    "print(f2(lst1))\n",
    "\n",
    "print(f'min: {f2(lst1)[0]}')\n",
    "\n",
    "minimo, maximo = f2(lst1)\n",
    "print(f'min:{minimo}, max:{maximo}')\n"
   ]
  },
  {
   "cell_type": "code",
   "execution_count": 4,
   "metadata": {},
   "outputs": [
    {
     "name": "stdout",
     "output_type": "stream",
     "text": [
      "3\n"
     ]
    }
   ],
   "source": [
    "#contar o número de vezes que aparece o minimo da função\n",
    "\n",
    "lst2 = [2,7,5,1,9,2,1,1]\n",
    "print(lst2.count(min(lst2)))"
   ]
  },
  {
   "cell_type": "markdown",
   "metadata": {},
   "source": [
    "## Numpy and Pandas"
   ]
  },
  {
   "cell_type": "code",
   "execution_count": 5,
   "metadata": {},
   "outputs": [],
   "source": [
    "import numpy as np"
   ]
  },
  {
   "cell_type": "code",
   "execution_count": 6,
   "metadata": {},
   "outputs": [
    {
     "name": "stdout",
     "output_type": "stream",
     "text": [
      "(1, 2, 3, 4)\n",
      "[1 2 3 4]\n",
      "\n",
      "[3 4]\n",
      "\n",
      "[[1 2 3]\n",
      " [2 2 2]\n",
      " [4 2 5]]\n",
      "\n",
      "[2 2 2]\n",
      "\n",
      "[1 2 4]\n",
      "\n",
      "2\n",
      "\n",
      "[[2 3]\n",
      " [2 2]]\n"
     ]
    }
   ],
   "source": [
    "lst1 = (1,2,3,4)\n",
    "arr1 = np.array(lst1)\n",
    "\n",
    "print(lst1)\n",
    "print(arr1)\n",
    "print()\n",
    "\n",
    "#mostrar os elementos 3 e 4 do arr1\n",
    "print(arr1[2:])\n",
    "print()\n",
    "\n",
    "#matriz\n",
    "matriz1 = np.array(([1,2,3],[2,2,2],[4,2,5]))\n",
    "print(matriz1)\n",
    "print()\n",
    "print(matriz1[1,:]) #vírgula separa linhas das colunas\n",
    "print()\n",
    "print(matriz1[:,0]) #mostrar a primeira coluna\n",
    "print()\n",
    "print(matriz1[1,1]) #mostrar a segunda coluna e segunda linha\n",
    "print()\n",
    "print(matriz1[:2,1:])"
   ]
  },
  {
   "cell_type": "code",
   "execution_count": 7,
   "metadata": {},
   "outputs": [
    {
     "name": "stdout",
     "output_type": "stream",
     "text": [
      "Requirement already satisfied: pip in c:\\users\\carol\\appdata\\local\\programs\\python\\python311\\lib\\site-packages (23.3.1)\n",
      "Note: you may need to restart the kernel to use updated packages.\n"
     ]
    }
   ],
   "source": [
    "%pip install --upgrade pip"
   ]
  },
  {
   "cell_type": "code",
   "execution_count": 8,
   "metadata": {},
   "outputs": [
    {
     "name": "stdout",
     "output_type": "stream",
     "text": [
      "Requirement already satisfied: matplotlib in c:\\users\\carol\\appdata\\local\\programs\\python\\python311\\lib\\site-packages (3.8.0)\n",
      "Requirement already satisfied: contourpy>=1.0.1 in c:\\users\\carol\\appdata\\local\\programs\\python\\python311\\lib\\site-packages (from matplotlib) (1.1.1)\n",
      "Requirement already satisfied: cycler>=0.10 in c:\\users\\carol\\appdata\\local\\programs\\python\\python311\\lib\\site-packages (from matplotlib) (0.12.1)\n",
      "Requirement already satisfied: fonttools>=4.22.0 in c:\\users\\carol\\appdata\\local\\programs\\python\\python311\\lib\\site-packages (from matplotlib) (4.43.1)\n",
      "Requirement already satisfied: kiwisolver>=1.0.1 in c:\\users\\carol\\appdata\\local\\programs\\python\\python311\\lib\\site-packages (from matplotlib) (1.4.5)\n",
      "Requirement already satisfied: numpy<2,>=1.21 in c:\\users\\carol\\appdata\\local\\programs\\python\\python311\\lib\\site-packages (from matplotlib) (1.26.0)\n",
      "Requirement already satisfied: packaging>=20.0 in c:\\users\\carol\\appdata\\roaming\\python\\python311\\site-packages (from matplotlib) (23.1)\n",
      "Requirement already satisfied: pillow>=6.2.0 in c:\\users\\carol\\appdata\\local\\programs\\python\\python311\\lib\\site-packages (from matplotlib) (10.0.1)\n",
      "Requirement already satisfied: pyparsing>=2.3.1 in c:\\users\\carol\\appdata\\local\\programs\\python\\python311\\lib\\site-packages (from matplotlib) (3.1.1)\n",
      "Requirement already satisfied: python-dateutil>=2.7 in c:\\users\\carol\\appdata\\roaming\\python\\python311\\site-packages (from matplotlib) (2.8.2)\n",
      "Requirement already satisfied: six>=1.5 in c:\\users\\carol\\appdata\\roaming\\python\\python311\\site-packages (from python-dateutil>=2.7->matplotlib) (1.16.0)\n",
      "Note: you may need to restart the kernel to use updated packages.\n"
     ]
    }
   ],
   "source": [
    "%pip install matplotlib"
   ]
  },
  {
   "cell_type": "code",
   "execution_count": 9,
   "metadata": {},
   "outputs": [
    {
     "name": "stdout",
     "output_type": "stream",
     "text": [
      "media:0.004989816437876354\n",
      "desvio padrão:1.0070487362540381\n",
      "(3000,)\n"
     ]
    },
    {
     "data": {
      "image/png": "[encoded data removed]",
      "text/plain": [
       "<Figure size 640x480 with 1 Axes>"
      ]
     },
     "metadata": {},
     "output_type": "display_data"
    }
   ],
   "source": [
    "#Gerar valores com base na distribuição -> normal (media, desvio padrão)\n",
    "import matplotlib.pyplot as plt\n",
    "\n",
    "arr2 = np.random.normal(0,1,3000) #3000 é o numero de elementos)\n",
    "\n",
    "print(f'media:{np.mean(arr2)}')\n",
    "print(f'desvio padrão:{np.std(arr2)}')\n",
    "\n",
    "plt.hist(arr2)\n",
    "\n",
    "print(arr2.shape) #mostra o formato"
   ]
  },
  {
   "cell_type": "code",
   "execution_count": 10,
   "metadata": {},
   "outputs": [
    {
     "name": "stdout",
     "output_type": "stream",
     "text": [
      "[[ 1.61893228 -1.17725853 -1.92181949 -1.50788056  0.36762168]\n",
      " [-1.15446205 -2.70499528 -1.44882773  1.25816328 -0.58888846]\n",
      " [-1.37784518 -0.3665203   1.75366797  0.74931998  2.1727359 ]]\n",
      "(3, 5)\n"
     ]
    }
   ],
   "source": [
    "matriz2 = np.random.normal(0,1,(3,5))\n",
    "\n",
    "print(matriz2)\n",
    "print(matriz2.shape)"
   ]
  },
  {
   "cell_type": "code",
   "execution_count": 11,
   "metadata": {},
   "outputs": [
    {
     "name": "stdout",
     "output_type": "stream",
     "text": [
      "[3 4 5 6]\n",
      "\n",
      "[3, 4, 5, 6]\n"
     ]
    }
   ],
   "source": [
    "# Ordenação de elementos \n",
    "\n",
    "arr2 = np.array([4,5,3,6]) #Não destroi a primeira lista\n",
    "arr3 = np.sort(arr2)\n",
    "print(arr3)\n",
    "print()\n",
    "\n",
    "#Exemplo em que a lista original é substituida\n",
    "lst3 = [4,5,3,6]\n",
    "lst3.sort()\n",
    "print(lst3)"
   ]
  },
  {
   "cell_type": "code",
   "execution_count": 12,
   "metadata": {},
   "outputs": [
    {
     "name": "stdout",
     "output_type": "stream",
     "text": [
      "matriz3\n",
      "[[3 5 2]\n",
      " [4 3 2]\n",
      " [8 3 9]]\n",
      "\n",
      "matriz4\n",
      "[[2 3 5]\n",
      " [2 3 4]\n",
      " [3 8 9]]\n",
      "\n",
      "matriz5\n",
      "[[3 3 2]\n",
      " [4 3 2]\n",
      " [8 5 9]]\n"
     ]
    }
   ],
   "source": [
    "#Ordenação de elementos em matrizes\n",
    "\n",
    "matriz3 = np.array(([3,5,2],[4,3,2],[8,3,9]))\n",
    "matriz4 = np.sort(matriz3, axis=1)\n",
    "matriz5 = np.sort(matriz3, axis=0)\n",
    "\n",
    "print('matriz3')\n",
    "print(matriz3)\n",
    "print()\n",
    "\n",
    "print('matriz4')\n",
    "print(matriz4)\n",
    "print()\n",
    "\n",
    "print('matriz5')\n",
    "print(matriz5)"
   ]
  },
  {
   "cell_type": "code",
   "execution_count": 13,
   "metadata": {},
   "outputs": [
    {
     "name": "stdout",
     "output_type": "stream",
     "text": [
      "[[1 1 1]\n",
      " [2 2 2]\n",
      " [3 3 3]\n",
      " [4 4 4]]\n",
      "\n",
      "[ 3  6  9 12]\n",
      "[10 10 10]\n",
      "30\n"
     ]
    }
   ],
   "source": [
    "matriz6 = np.array(([1,1,1],[2,2,2],[3,3,3],[4,4,4]))\n",
    " \n",
    "print(matriz6)\n",
    "print()\n",
    "\n",
    "#Soma das linhas\n",
    "print(np.sum(matriz6, axis=1))\n",
    "\n",
    "#Soma das colunas\n",
    "print(np.sum(matriz6, axis=0))\n",
    "\n",
    "print(np.sum(matriz6))"
   ]
  },
  {
   "cell_type": "code",
   "execution_count": 14,
   "metadata": {},
   "outputs": [
    {
     "name": "stdout",
     "output_type": "stream",
     "text": [
      "[0 1 2 3 4 5 6 7 8 9]\n",
      "[0.         0.125      0.28571429 0.5        0.8        1.25\n",
      " 2.         3.5        8.                inf]\n"
     ]
    },
    {
     "name": "stderr",
     "output_type": "stream",
     "text": [
      "C:\\Users\\carol\\AppData\\Local\\Temp\\ipykernel_428\\2591447292.py:6: RuntimeWarning: divide by zero encountered in divide\n",
      "  arr5 = (arr4 - np.min(arr4)) / (np.max(arr4) - arr4)\n"
     ]
    }
   ],
   "source": [
    "#Necessidade de normalizar valores entre 0 e 1\n",
    "\n",
    "arr4 = np.arange(10)\n",
    "print(arr4)\n",
    "\n",
    "arr5 = (arr4 - np.min(arr4)) / (np.max(arr4) - arr4)\n",
    "print(arr5)"
   ]
  },
  {
   "cell_type": "code",
   "execution_count": 15,
   "metadata": {},
   "outputs": [
    {
     "name": "stdout",
     "output_type": "stream",
     "text": [
      "Requirement already satisfied: scikit-learn in c:\\users\\carol\\appdata\\local\\programs\\python\\python311\\lib\\site-packages (1.3.2)\n",
      "Requirement already satisfied: numpy<2.0,>=1.17.3 in c:\\users\\carol\\appdata\\local\\programs\\python\\python311\\lib\\site-packages (from scikit-learn) (1.26.0)\n",
      "Requirement already satisfied: scipy>=1.5.0 in c:\\users\\carol\\appdata\\local\\programs\\python\\python311\\lib\\site-packages (from scikit-learn) (1.11.3)\n",
      "Requirement already satisfied: joblib>=1.1.1 in c:\\users\\carol\\appdata\\local\\programs\\python\\python311\\lib\\site-packages (from scikit-learn) (1.3.2)\n",
      "Requirement already satisfied: threadpoolctl>=2.0.0 in c:\\users\\carol\\appdata\\local\\programs\\python\\python311\\lib\\site-packages (from scikit-learn) (3.2.0)\n"
     ]
    }
   ],
   "source": [
    "#utilizando sklearn\n",
    "!pip install scikit-learn "
   ]
  },
  {
   "cell_type": "code",
   "execution_count": 17,
   "metadata": {},
   "outputs": [
    {
     "name": "stdout",
     "output_type": "stream",
     "text": [
      "[0 1 2 3 4 5 6 7 8 9]\n",
      "[0.         0.11111111 0.22222222 0.33333333 0.44444444 0.55555556\n",
      " 0.66666667 0.77777778 0.88888889 1.        ]\n",
      "[0.         0.11111111 0.22222222 0.33333333 0.44444444 0.55555556\n",
      " 0.66666667 0.77777778 0.88888889 1.        ]\n"
     ]
    }
   ],
   "source": [
    "arr4 = np.arange(10)\n",
    "print(arr4)\n",
    "\n",
    "arr5 = (arr4 - np.min(arr4)) / (np.max(arr4) - np.min(arr4))\n",
    "print(arr5)\n",
    "\n",
    "#Utilizando Skicitlearn\n",
    "import sklearn.preprocessing\n",
    "arr6 = sklearn.preprocessing.minmax_scale(arr4, feature_range=(0,1), axis = 0, copy=True)\n",
    "print(arr6)"
   ]
  }
 ],
 "metadata": {
  "kernelspec": {
   "display_name": "Python 3",
   "language": "python",
   "name": "python3"
  },
  "language_info": {
   "codemirror_mode": {
    "name": "ipython",
    "version": 3
   },
   "file_extension": ".py",
   "mimetype": "text/x-python",
   "name": "python",
   "nbconvert_exporter": "python",
   "pygments_lexer": "ipython3",
   "version": "3.11.5"
  }
 },
 "nbformat": 4,
 "nbformat_minor": 2
}
