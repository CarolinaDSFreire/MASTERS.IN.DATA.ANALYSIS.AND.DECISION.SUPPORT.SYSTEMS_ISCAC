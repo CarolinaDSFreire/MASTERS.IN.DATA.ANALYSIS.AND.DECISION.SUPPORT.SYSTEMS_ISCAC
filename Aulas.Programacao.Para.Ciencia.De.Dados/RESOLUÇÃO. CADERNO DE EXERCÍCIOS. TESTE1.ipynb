{
 "cells": [
  {
   "cell_type": "markdown",
   "metadata": {},
   "source": [
    "# RESOLUÇÃO - CADERNO DE EXERCÍCIOS (TESTE 1)"
   ]
  },
  {
   "cell_type": "markdown",
   "metadata": {},
   "source": [
    "## Exercícios introdutórios de Python\n",
    "### 1.1. Primeiros exercícios"
   ]
  },
  {
   "cell_type": "code",
   "execution_count": 27,
   "metadata": {},
   "outputs": [
    {
     "name": "stdout",
     "output_type": "stream",
     "text": [
      "carolina\n",
      "3+4\n",
      "5 + 5, = 10\n"
     ]
    }
   ],
   "source": [
    "# 1.1.1. até 1.1.3.\n",
    "print( 'carolina')\n",
    "\n",
    "print('3+4') #3+4\n",
    "\n",
    "valor_1 = int(input('valor_1'))\n",
    "valor_2 = int(input('valor_2'))\n",
    "resultado = valor_1 + valor_2\n",
    "\n",
    "print(f'{valor_1} + {valor_2}, = {resultado}')"
   ]
  },
  {
   "cell_type": "code",
   "execution_count": 60,
   "metadata": {},
   "outputs": [
    {
     "name": "stdout",
     "output_type": "stream",
     "text": [
      "Daqui a 30 anos o utilizador terá 35\n"
     ]
    },
    {
     "data": {
      "text/plain": [
       "int"
      ]
     },
     "execution_count": 60,
     "metadata": {},
     "output_type": "execute_result"
    }
   ],
   "source": [
    "# 1.1.4. até 1.1.5.\n",
    "idade = int(input('idade?'))\n",
    "print(f'Daqui a 30 anos o utilizador terá {idade+30}')\n",
    "\n",
    "type(5.0)\n",
    "type(5)"
   ]
  },
  {
   "cell_type": "code",
   "execution_count": 69,
   "metadata": {},
   "outputs": [
    {
     "name": "stdout",
     "output_type": "stream",
     "text": [
      "1 milhas = 1.61 kms\n",
      "1 milhas = 1.61 kms\n"
     ]
    }
   ],
   "source": [
    "# 1.1.6.\n",
    "milhas = int(input('quantas milhas?'))\n",
    "\n",
    "km = milhas*1.609344\n",
    "print(f'{milhas} milhas = {km:.3} kms')\n",
    "\n",
    "#OU\n",
    "milhas = 1\n",
    "\n",
    "km = milhas*1.609344\n",
    "print(f'{milhas} milhas = {km:.3} kms')"
   ]
  },
  {
   "cell_type": "code",
   "execution_count": 73,
   "metadata": {},
   "outputs": [
    {
     "name": "stdout",
     "output_type": "stream",
     "text": [
      "Se os lados do quadrado valem 5 a área do quadrado é 25\n",
      "Se os lados do quadrado valem 5 a área do quadrado é 25\n"
     ]
    }
   ],
   "source": [
    "#1.1.7.\n",
    "quadrado = int(input('quadrado?'))\n",
    "\n",
    "area = quadrado**2\n",
    "print(f'Se os lados do quadrado valem {quadrado} a área do quadrado é {area}')\n",
    "\n",
    "#OU\n",
    "quadrado = 5\n",
    "\n",
    "area = quadrado**2\n",
    "print(f'Se os lados do quadrado valem {quadrado} a área do quadrado é {area}')"
   ]
  },
  {
   "cell_type": "code",
   "execution_count": 79,
   "metadata": {},
   "outputs": [
    {
     "name": "stdout",
     "output_type": "stream",
     "text": [
      "Se o raio da circunferência vale 5 a sua área é 78.5\n",
      "Se o raio da circunferência vale 5 a sua área é 78.5\n"
     ]
    }
   ],
   "source": [
    "#1.1.8.\n",
    "raio = int(input('raio?'))\n",
    "pi = 3.14\n",
    "area = raio**2 * pi\n",
    "print(f'Se o raio da circunferência vale {circunferencia} a sua área é {area}')\n",
    "\n",
    "#OU\n",
    "raio = 5\n",
    "pi = 3.14\n",
    "area = raio**2 * pi\n",
    "print(f'Se o raio da circunferência vale {raio} a sua área é {area}')"
   ]
  },
  {
   "cell_type": "code",
   "execution_count": 82,
   "metadata": {},
   "outputs": [
    {
     "name": "stdout",
     "output_type": "stream",
     "text": [
      "25 celsius = 77.0 fahrenheit\n",
      "25 celsius = 77.0 fahrenheit\n"
     ]
    }
   ],
   "source": [
    "#1.1.9.\n",
    "celsius = int(input('quantos celcius?'))\n",
    "\n",
    "fah = celsius*1.8 + 32\n",
    "print(f'{celsius} celsius = {fah:.3} fahrenheit')\n",
    "\n",
    "#OU\n",
    "celsius = 25\n",
    "fah = celsius*1.8 + 32\n",
    "print(f'{celsius} celsius = {fah:.3} fahrenheit')"
   ]
  },
  {
   "cell_type": "code",
   "execution_count": null,
   "metadata": {},
   "outputs": [],
   "source": [
    "#1.1.10. - CHATGPT\n",
    "# Defina as coordenadas dos dois pontos\n",
    "ponto1 = (3, 4)\n",
    "ponto2 = (0, 0)\n",
    "\n",
    "# Extraia as coordenadas x e y de cada ponto\n",
    "x1, y1 = ponto1\n",
    "x2, y2 = ponto2\n",
    "\n",
    "# Calcule as diferenças nas coordenadas\n",
    "diferenca_x = x2 - x1\n",
    "diferenca_y = y2 - y1\n",
    "\n",
    "# Calcule a distância euclidiana sem usar math.sqrt\n",
    "distancia = (diferenca_x ** 2 + diferenca_y ** 2) ** 0.5\n",
    "\n",
    "# Exiba o resultado\n",
    "print(f\"A distância euclidiana entre {ponto1} e {ponto2} é {distancia:.2f}\")\n"
   ]
  },
  {
   "cell_type": "code",
   "execution_count": 102,
   "metadata": {},
   "outputs": [
    {
     "name": "stdout",
     "output_type": "stream",
     "text": [
      "Antes da troca:\n",
      "a = 5\n",
      "b = 10\n",
      "\n",
      "Após a troca:\n",
      "a = 10\n",
      "b = 5\n"
     ]
    }
   ],
   "source": [
    "#1.1.11. - CHATGPT\n",
    "# Defina as duas variáveis\n",
    "a = 5\n",
    "b = 10\n",
    "\n",
    "# Antes da troca\n",
    "print(\"Antes da troca:\")\n",
    "print(\"a =\", a)\n",
    "print(\"b =\", b)\n",
    "\n",
    "# Troque os valores das variáveis\n",
    "a, b = b, a\n",
    "\n",
    "# Após a troca\n",
    "print(\"\\nApós a troca:\")\n",
    "print(\"a =\", a)\n",
    "print(\"b =\", b)"
   ]
  },
  {
   "cell_type": "code",
   "execution_count": 2,
   "metadata": {},
   "outputs": [
    {
     "name": "stdout",
     "output_type": "stream",
     "text": [
      "Python 3.11.5\n",
      "Python 3.11.5\n"
     ]
    }
   ],
   "source": [
    "#1.1.12.\n",
    "!python --version\n",
    "!python -V"
   ]
  },
  {
   "cell_type": "markdown",
   "metadata": {},
   "source": [
    "### 1.2. Estruturas de controlo de fluxo"
   ]
  },
  {
   "cell_type": "code",
   "execution_count": 18,
   "metadata": {},
   "outputs": [
    {
     "name": "stdout",
     "output_type": "stream",
     "text": [
      "8\n",
      "positivo\n",
      "-8\n",
      "Negativo\n"
     ]
    }
   ],
   "source": [
    "#1.2.1.\n",
    "numeropositivo1 = int(input('Qual número?'))\n",
    "print(numeropositivo1)\n",
    "if numeropositivo1 >= 0:\n",
    "    print('positivo')\n",
    "else:\n",
    "    print ('negativo')\n",
    "\n",
    "#OU\n",
    "numeropositivo2 = int(input('Qual número?'))\n",
    "print(numeropositivo2)\n",
    "if numeropositivo2 > 0:\n",
    "    print('Positivo!')\n",
    "else:\n",
    "    if numeropositivo2 == 0: #O == é o operador de comparação\n",
    "        print('Nulo')\n",
    "    else:\n",
    "        print('Negativo')"
   ]
  },
  {
   "cell_type": "code",
   "execution_count": 14,
   "metadata": {},
   "outputs": [
    {
     "name": "stdout",
     "output_type": "stream",
     "text": [
      "par\n",
      "8\n"
     ]
    }
   ],
   "source": [
    "#1.2.2.\n",
    "numeropar = int(input('Qual número?'))\n",
    "print(numeropar)\n",
    "if numeropar%2==0:\n",
    "    print('par')\n",
    "else:\n",
    "    print ('ímpar')"
   ]
  },
  {
   "cell_type": "code",
   "execution_count": 24,
   "metadata": {},
   "outputs": [
    {
     "name": "stdout",
     "output_type": "stream",
     "text": [
      "O númeoro 9.445 é maior que o número 4.55\n"
     ]
    }
   ],
   "source": [
    "#1.2.3.\n",
    "maior1 = float(input('Qual é maior?'))\n",
    "maior2 = float(input('Qual é maior?'))\n",
    "\n",
    "if maior1 > maior2:\n",
    "    print(f'O númeoro {maior1} é maior que o número {maior2}')\n",
    "else:\n",
    "    print(f'O númeoro {maior2} é maior que o número {maior1}')"
   ]
  },
  {
   "cell_type": "code",
   "execution_count": 36,
   "metadata": {},
   "outputs": [
    {
     "name": "stdout",
     "output_type": "stream",
     "text": [
      "O ano 2015 não é bissexto\n",
      "O ano 2016 é bissexto\n"
     ]
    }
   ],
   "source": [
    "#1.2.4. - CHATGPT\n",
    "ano = int(input('Qual ano?'))\n",
    "\n",
    "if ano % 4 == 0:\n",
    "    if ano % 100 != 0:\n",
    "        print(f'O ano {ano} é bissexto')\n",
    "    elif ano % 400 == 0:\n",
    "        print(f'O ano {ano} é bissexto')\n",
    "    else:\n",
    "        print(f'O ano {ano} não é bissexto')\n",
    "else:\n",
    "    print(f'O ano {ano} não é bissexto')\n",
    "\n",
    "#OU\n",
    "ano = int(input('Qual ano?'))\n",
    "\n",
    "if (ano % 4 == 0 and ano % 100 != 0) or (ano % 400 == 0):\n",
    "    print(f'O ano {ano} é bissexto')\n",
    "else:\n",
    "    print(f'O ano {ano} não é bissexto')\n"
   ]
  },
  {
   "cell_type": "code",
   "execution_count": 56,
   "metadata": {},
   "outputs": [
    {
     "name": "stdout",
     "output_type": "stream",
     "text": [
      "A letra A é uma vogal\n",
      "A letra a é uma vogal\n"
     ]
    }
   ],
   "source": [
    "#1.2.5.\n",
    "letra = input('Qual letra?')\n",
    "\n",
    "if letra=='a' or letra=='e' or letra=='i' or letra=='o' or letra=='u':\n",
    "    print(f'A letra {letra} é uma vogal')\n",
    "elif letra=='A' or letra=='E' or letra=='I' or letra=='O' or letra=='U':\n",
    "    print(f'A letra {letra} é uma vogal')\n",
    "else:\n",
    "    print(f'A letra {letra} não é uma vogal')\n",
    "\n",
    "#OU - CHATGPT\n",
    "\n",
    "letra = input('Qual letra?')\n",
    "letra = letra.lower()  # Converter a letra para minúscula\n",
    "\n",
    "if letra in ('a', 'e', 'i', 'o', 'u'):\n",
    "    print(f'A letra {letra} é uma vogal')\n",
    "else:\n",
    "    print(f'A letra {letra} não é uma vogal')"
   ]
  },
  {
   "cell_type": "code",
   "execution_count": 63,
   "metadata": {},
   "outputs": [
    {
     "name": "stdout",
     "output_type": "stream",
     "text": [
      "Isso é um triânulo\n"
     ]
    }
   ],
   "source": [
    "#1.2.6.\n",
    "a = 10\n",
    "b = 9\n",
    "c = 16\n",
    "\n",
    "if a+b>c and a+c>b and b+c>a:\n",
    "    print('Isso é um triânulo')\n",
    "else:\n",
    "    print('Isso não é um triânulo')"
   ]
  },
  {
   "cell_type": "code",
   "execution_count": 65,
   "metadata": {},
   "outputs": [
    {
     "name": "stdout",
     "output_type": "stream",
     "text": [
      "Isso é um triânulo escaleno\n",
      "O triângulo com lados de comprimento 10, 9 e 16 é um Triângulo escaleno.\n"
     ]
    }
   ],
   "source": [
    "#1.2.7.\n",
    "a = 10\n",
    "b = 9\n",
    "c = 16\n",
    "\n",
    "if a==b==c:\n",
    "    print('Isso é um triânulo equilátero')\n",
    "\n",
    "if a==b or a==c or b==c:    \n",
    "    print('Isso é um triânulo isósceles')\n",
    "\n",
    "else:\n",
    "    print('Isso é um triânulo escaleno')\n",
    "\n",
    "#OU - CHATGPT\n",
    "\n",
    "def classificar_triangulo(a, b, c):\n",
    "    if a == b == c:\n",
    "        return \"Triângulo equilátero\"\n",
    "    elif a == b or a == c or b == c:\n",
    "        return \"Triângulo isósceles\"\n",
    "    else:\n",
    "        return \"Triângulo escaleno\"\n",
    "\n",
    "resultado = classificar_triangulo(a, b, c)\n",
    "print(f\"O triângulo com lados de comprimento {a}, {b} e {c} é um {resultado}.\")\n",
    "\n"
   ]
  },
  {
   "cell_type": "code",
   "execution_count": 68,
   "metadata": {},
   "outputs": [
    {
     "name": "stdout",
     "output_type": "stream",
     "text": [
      "obeso\n"
     ]
    }
   ],
   "source": [
    "#1.2.8.\n",
    "peso = float(input('Qual peso?'))\n",
    "altura = float(input('Qual altura?'))\n",
    "\n",
    "imc = peso/(altura**2)\n",
    "\n",
    "if imc<18.5:\n",
    "    print('magro')\n",
    "elif imc<=24.9:\n",
    "    print('normal')\n",
    "elif imc<=29.9:\n",
    "    print('excesso de peso')\n",
    "else:\n",
    "    print('obeso')"
   ]
  },
  {
   "cell_type": "code",
   "execution_count": 119,
   "metadata": {},
   "outputs": [
    {
     "name": "stdout",
     "output_type": "stream",
     "text": [
      "0 1 2 3 4 5 6 7 8 9 10 11 12 13 14 15 16 17 18 19 20 21 22 23 24 25 26 27 28 29 30 31 32 33 34 35 36 37 38 39 40 41 42 43 44 45 46 47 48 49 50 51 52 53 54 55 56 57 58 59 60 61 62 63 64 65 66 67 68 69 70 71 72 73 74 75 76 77 78 79 80 81 82 83 84 85 86 87 88 89 90 91 92 93 94 95 96 97 98 99 100 \n",
      "100 99 98 97 96 95 94 93 92 91 90 89 88 87 86 85 84 83 82 81 80 79 78 77 76 75 74 73 72 71 70 69 68 67 66 65 64 63 62 61 60 59 58 57 56 55 54 53 52 51 50 49 48 47 46 45 44 43 42 41 40 39 38 37 36 35 34 33 32 31 30 29 28 27 26 25 24 23 22 21 20 19 18 17 16 15 14 13 12 11 10 9 8 7 6 5 4 3 2 1 "
     ]
    }
   ],
   "source": [
    "#1.2.9.\n",
    "for i in range(101):\n",
    "    print(f'{i}', end=' ')\n",
    "\n",
    "print()\n",
    "\n",
    "# 1.2.10.\n",
    "for i in range(100,0,-1):\n",
    "    print(f'{i}', end=' ')"
   ]
  },
  {
   "cell_type": "code",
   "execution_count": 118,
   "metadata": {},
   "outputs": [
    {
     "name": "stdout",
     "output_type": "stream",
     "text": [
      "0 2 4 6 8 10 12 14 16 18 20 22 24 26 28 30 32 34 36 38 40 42 44 46 48 50 52 54 56 58 60 62 64 66 68 70 72 74 76 78 80 82 84 86 88 90 92 94 96 98 100 \n",
      "0 2 4 6 8 10 12 14 16 18 20 22 24 26 28 30 32 34 36 38 40 42 44 46 48 50 52 54 56 58 60 62 64 66 68 70 72 74 76 78 80 82 84 86 88 90 92 94 96 98 100 "
     ]
    }
   ],
   "source": [
    "#1.2.11.\n",
    "for i in range(0,101,2):\n",
    "    print(f'{i}', end=' ')\n",
    "\n",
    "print()\n",
    "#OU \n",
    "\n",
    "for i in range(0,101):\n",
    "    if i%2==0:\n",
    "        print(f'{i}', end=' ')"
   ]
  },
  {
   "cell_type": "code",
   "execution_count": 116,
   "metadata": {},
   "outputs": [
    {
     "name": "stdout",
     "output_type": "stream",
     "text": [
      "0 5 10 15 20 25 30 35 40 45 50 55 60 65 70 75 80 85 90 95 100 "
     ]
    }
   ],
   "source": [
    "#1.2.12.\n",
    "for i in range(0,101):\n",
    "    if i%5==0:\n",
    "        print(f'{i}', end=' ')"
   ]
  },
  {
   "cell_type": "code",
   "execution_count": 149,
   "metadata": {},
   "outputs": [
    {
     "name": "stdout",
     "output_type": "stream",
     "text": [
      "5 x 1 = 4\n",
      "5 x 2 = 9\n",
      "5 x 3 = 14\n",
      "5 x 4 = 19\n",
      "5 x 5 = 24\n",
      "5 x 6 = 29\n",
      "5 x 7 = 34\n",
      "5 x 8 = 39\n",
      "5 x 9 = 44\n",
      "5 x 10 = 49\n"
     ]
    }
   ],
   "source": [
    "#1.2.13.\n",
    "numero = int(input('Qual número?'))\n",
    "\n",
    "for i in range(1,11):\n",
    "    print(f'{numero} x {i} = {numero*i}')"
   ]
  },
  {
   "cell_type": "code",
   "execution_count": 114,
   "metadata": {},
   "outputs": [
    {
     "name": "stdout",
     "output_type": "stream",
     "text": [
      "1 2 3 4 5 6 7 8 9 10 11 12 13 14 15 16 17 18 19 20 21 22 23 24 25 26 27 28 29 30 31 32 33 34 35 36 37 38 39 40 41 42 43 44 45 46 47 48 49 50 51 52 53 54 55 56 57 58 59 60 61 62 63 64 65 66 67 68 69 70 71 72 73 74 75 76 77 78 79 80 81 82 83 84 85 86 87 88 89 90 91 92 93 94 95 96 97 98 99 100 \n",
      "5050\n"
     ]
    }
   ],
   "source": [
    "#1.2.14.\n",
    "soma = 0\n",
    "for i in range(1,101):\n",
    "    soma = soma + i #ou soma += i\n",
    "    print(i, end=' ')\n",
    "print()\n",
    "print(soma)"
   ]
  },
  {
   "cell_type": "code",
   "execution_count": 130,
   "metadata": {},
   "outputs": [
    {
     "name": "stdout",
     "output_type": "stream",
     "text": [
      "0 2 4 6 8 10 12 14 16 18 20 22 24 26 28 30 32 34 36 38 40 42 44 46 48 50 52 54 56 58 60 62 64 66 68 70 72 74 76 78 80 82 84 86 88 90 92 94 96 98 100 \n",
      "2550\n",
      "0 2 4 6 8 10 12 14 16 18 20 22 24 26 28 30 32 34 36 38 40 42 44 46 48 50 52 54 56 58 60 62 64 66 68 70 72 74 76 78 80 82 84 86 88 90 92 94 96 98 100 \n",
      "2550\n"
     ]
    }
   ],
   "source": [
    "#1.2.15.\n",
    "soma = 0\n",
    "for i in range(0,101,2):\n",
    "    soma = soma + i \n",
    "    print(i, end=' ')\n",
    "print()\n",
    "print(soma)\n",
    "\n",
    "#OU\n",
    "\n",
    "soma = 0\n",
    "for i in range(0,101):\n",
    "    if i%2==0:\n",
    "        soma = soma + i\n",
    "        print(i, end=' ')\n",
    "print()\n",
    "\n",
    "print(soma)"
   ]
  },
  {
   "cell_type": "code",
   "execution_count": 161,
   "metadata": {},
   "outputs": [
    {
     "name": "stdout",
     "output_type": "stream",
     "text": [
      "O fatorial de 8 é 40320\n"
     ]
    }
   ],
   "source": [
    "#1.2.16. - CHATGPT\n",
    "n = int(input(\"Digite um número para calcular o fatorial: \"))\n",
    "if n < 0:\n",
    "    print(\"O fatorial não está definido para números negativos.\")\n",
    "else:\n",
    "    fatorial = 1\n",
    "    for i in range(1, n + 1):\n",
    "        fatorial *= i\n",
    "    print(f\"O fatorial de {n} é {fatorial}\")\n",
    "\n",
    "#OU\n",
    "def calcular_fatorial(n):\n",
    "    if n < 0:\n",
    "        return \"O fatorial não está definido para números negativos.\"\n",
    "    elif n == 0:\n",
    "        return 1\n",
    "    else:\n",
    "        fatorial = 1\n",
    "        for i in range(1, n + 1):\n",
    "            fatorial *= i\n",
    "        return fatorial\n",
    "\n",
    "numero = int(input(\"Digite um número para calcular o fatorial: \"))\n",
    "resultado = calcular_fatorial(numero)\n",
    "\n",
    "print(f\"O fatorial de {numero} é {resultado}\")\n"
   ]
  },
  {
   "cell_type": "code",
   "execution_count": 5,
   "metadata": {},
   "outputs": [
    {
     "name": "stdout",
     "output_type": "stream",
     "text": [
      "Número aleatório 1: 53\n",
      "Número aleatório 2: 7\n",
      "Escolha de números aleatórios concluída.\n"
     ]
    }
   ],
   "source": [
    "#1.2.17. - CHATGPT\n",
    "import random\n",
    "\n",
    "contador = 0\n",
    "\n",
    "while contador < 2:\n",
    "    numero_aleatorio = random.randint(1, 100)  # Gere um número aleatório entre 1 e 100 (você pode ajustar o intervalo conforme necessário)\n",
    "    print(f\"Número aleatório {contador + 1}: {numero_aleatorio}\")\n",
    "    contador += 1\n",
    "\n",
    "print(\"Escolha de números aleatórios concluída.\")"
   ]
  },
  {
   "cell_type": "code",
   "execution_count": 7,
   "metadata": {},
   "outputs": [
    {
     "name": "stdout",
     "output_type": "stream",
     "text": [
      "O máximo é 8\n",
      "O mínimo é -6\n"
     ]
    }
   ],
   "source": [
    "#1.2.18. - CHAT GPT\n",
    "# Inicialize as variáveis para máximo e mínimo\n",
    "maximo = float('-inf')  # Inicializado com um valor negativo infinito\n",
    "minimo = float('inf')   # Inicializado com um valor positivo infinito\n",
    "\n",
    "while True:\n",
    "    numero = int(input(\"Digite um número inteiro (0 para sair): \"))\n",
    "\n",
    "    if numero == 0:\n",
    "        break  # Saia do loop quando o número for 0\n",
    "\n",
    "    # Atualize o valor máximo e mínimo\n",
    "    if numero > maximo:\n",
    "        maximo = numero\n",
    "    if numero < minimo:\n",
    "        minimo = numero\n",
    "\n",
    "# Apresente o máximo e o mínimo\n",
    "print(f\"O máximo é {maximo}\")\n",
    "print(f\"O mínimo é {minimo}\")"
   ]
  },
  {
   "cell_type": "code",
   "execution_count": 1,
   "metadata": {},
   "outputs": [
    {
     "name": "stdout",
     "output_type": "stream",
     "text": [
      "Insira um número maior\n",
      "Insira um número menor\n",
      "Insira um número menor\n",
      "Insira um número menor\n",
      "Insira um número menor\n",
      "Insira um número menor\n",
      "Insira um número menor\n",
      "Insira um número menor\n",
      "Insira um número menor\n",
      "Insira um número menor\n",
      "Insira um número menor\n",
      "Parabéns, acertou! Número de tentativas: 12.\n"
     ]
    }
   ],
   "source": [
    "#1.2.19. - FEITO NA SALA\n",
    "\n",
    "import random\n",
    "numero = random.randint(1,100)\n",
    "palpite = -1\n",
    "contar = 0\n",
    "\n",
    "while numero!=palpite:\n",
    "    palpite = int(input('Insira um numero: '))\n",
    "    contar += 1\n",
    "    if palpite <numero:\n",
    "        print('Insira um número maior')\n",
    "    if palpite>numero:\n",
    "        print('Insira um número menor')\n",
    "print(f'Parabéns, acertou! Número de tentativas: {contar}.')"
   ]
  },
  {
   "cell_type": "code",
   "execution_count": 6,
   "metadata": {},
   "outputs": [
    {
     "name": "stdout",
     "output_type": "stream",
     "text": [
      "1 2 4 5 10 20 25 50 100 "
     ]
    }
   ],
   "source": [
    "#1.2.20. - FEITO EM SALA\n",
    "escolhido = int(input('Qual número?'))\n",
    "\n",
    "for i in range(1,escolhido+1):\n",
    "    if escolhido%i==0:\n",
    "        print(f'{i}', end =' ')"
   ]
  },
  {
   "cell_type": "code",
   "execution_count": 13,
   "metadata": {},
   "outputs": [
    {
     "name": "stdout",
     "output_type": "stream",
     "text": [
      "1/1 + 2/3 + 3/5 + 4/7 + 5/9 + \n",
      "A soma da série é: 3.393650793650793\n"
     ]
    }
   ],
   "source": [
    "#1.2.21. - CHATGPT\n",
    "n = int(input(\"Digite o valor de n: \"))\n",
    "soma = 0\n",
    "numerador = 1\n",
    "denominador = 1\n",
    "\n",
    "for i in range(n):\n",
    "    termo = numerador / denominador\n",
    "    soma += termo\n",
    "    print(f\"{numerador}/{denominador}\", end=\" + \")\n",
    "\n",
    "    numerador += 1\n",
    "    denominador += 2 # atualizar os valores do numerador e do denominador na série a cada iteração do loop for. Isso ocorre porque a série que você especificou tem uma progressão onde o numerador aumenta em 1 unidade a cada termo, e o denominador aumenta em 2 unidades a cada termo.\n",
    "\n",
    "print(\"\\nA soma da série é:\", soma)\n"
   ]
  },
  {
   "cell_type": "code",
   "execution_count": 15,
   "metadata": {},
   "outputs": [
    {
     "name": "stdout",
     "output_type": "stream",
     "text": [
      "é primo\n",
      "O número e ciclos foi: 5\n"
     ]
    }
   ],
   "source": [
    "#1.2.22. - FEITO EM SALA\n",
    "numero = 7\n",
    "encontrou_divisor = False\n",
    "for i in range(2,numero):\n",
    "    if numero%i==0:\n",
    "            encontrou_divisor = True\n",
    "          \n",
    "if encontrou_divisor:\n",
    "        print('não é primo')\n",
    "else:\n",
    "        print('é primo')\n",
    "print(f'O número e ciclos foi: {numero-2}')"
   ]
  },
  {
   "cell_type": "code",
   "execution_count": 29,
   "metadata": {},
   "outputs": [
    {
     "name": "stdout",
     "output_type": "stream",
     "text": [
      "Serão necessários 63 anos para que A ultrapasse B\n",
      "Serão necessários 63 anos para que a população do país A ultrapasse ou igual a população do país B.\n"
     ]
    }
   ],
   "source": [
    "#1.2.23.\n",
    "\n",
    "a = 80000\n",
    "b = 200000\n",
    "\n",
    "crescimento_a = 3/100\n",
    "crescimento_b = 15/1000\n",
    "\n",
    "passou = False\n",
    "\n",
    "#a = 5\n",
    "#a += 3  (a = a + 3)\n",
    "\n",
    "n = 0\n",
    "for i in range(0, 1000):  # Usei um limite superior de 1000 anos\n",
    "    a += a * crescimento_a\n",
    "    b += b * crescimento_b\n",
    "    n += 1\n",
    "    if a > b:\n",
    "        passou = True\n",
    "        break\n",
    "\n",
    "print(f'Serão necessários {n} anos para que A ultrapasse B')\n",
    "\n",
    "#OU\n",
    "\n",
    "populacao_a = 80000\n",
    "taxa_crescimento_a = 0.03  # 3% em forma decimal\n",
    "populacao_b = 200000\n",
    "taxa_crescimento_b = 0.015  # 1.5% em forma decimal\n",
    "anos = 0\n",
    "\n",
    "while populacao_a < populacao_b:\n",
    "    populacao_a += populacao_a * taxa_crescimento_a\n",
    "    populacao_b += populacao_b * taxa_crescimento_b\n",
    "    anos += 1\n",
    "\n",
    "print(f'Serão necessários {anos} anos para que a população do país A ultrapasse ou igual a população do país B.')\n"
   ]
  },
  {
   "cell_type": "code",
   "execution_count": 50,
   "metadata": {},
   "outputs": [
    {
     "name": "stdout",
     "output_type": "stream",
     "text": [
      "não é capicua\n",
      "89 não é um número capicua.\n"
     ]
    }
   ],
   "source": [
    "#1.2.24.\n",
    "n = 589\n",
    "n_str = str(n)\n",
    "\n",
    "n_invertido_str = n_str[::-1]\n",
    "\n",
    "n_invertido = int(n_invertido_str)\n",
    "\n",
    "if n == n_invertido:\n",
    "    print('é capicua')\n",
    "else:\n",
    "    print('não é capicua')\n",
    "\n",
    "#OU - CHATGPT\n",
    "numero = int(input(\"Digite um número: \"))  # Solicita ao usuário que digite um número\n",
    "\n",
    "numero_original = numero  # Salva o número original\n",
    "numero_invertido = 0  # Inicializa o número invertido\n",
    "\n",
    "temp = numero  # Cria uma cópia temporária do número para preservar o original\n",
    "\n",
    "while temp > 0:\n",
    "    digito = temp % 10  # Pega o dígito mais à direita\n",
    "    numero_invertido = numero_invertido * 10 + digito  # Adiciona o dígito à direita do número invertido\n",
    "    temp = temp // 10  # Remove o dígito mais à direita\n",
    "\n",
    "# Verifica se o número original é igual ao número invertido\n",
    "if numero_original == numero_invertido:\n",
    "    print(f\"{numero} é um número capicua.\")\n",
    "else:\n",
    "    print(f\"{numero} não é um número capicua.\")\n"
   ]
  },
  {
   "cell_type": "code",
   "execution_count": 62,
   "metadata": {},
   "outputs": [
    {
     "name": "stdout",
     "output_type": "stream",
     "text": [
      "[5]\n"
     ]
    }
   ],
   "source": [
    "#EXPLICAÇÃO - SLICING\n",
    "sequencia = [1, 2, 3, 4, 5]\n",
    "sequencia_invertida = sequencia[:-2:-1]\n",
    "\n",
    "print(sequencia_invertida) "
   ]
  },
  {
   "cell_type": "code",
   "execution_count": 87,
   "metadata": {},
   "outputs": [
    {
     "name": "stdout",
     "output_type": "stream",
     "text": [
      "541234\n",
      "541234 é maior que 12345\n"
     ]
    }
   ],
   "source": [
    "#1.2.25. - TENTATIVA\n",
    "\n",
    "n = 12345\n",
    "n_str = str(n)\n",
    "\n",
    "n_semoultimo = n_str[:4]\n",
    "ultimon_invertido_str = n_str[-1:-3:-1]\n",
    "\n",
    "n_invertido = int(ultimon_invertido_str)\n",
    "\n",
    "final = int(str(n_invertido) + str(n_semoultimo))\n",
    "print(final)\n",
    "\n",
    "if final > n*5:\n",
    "    print(f'{final} é maior que {n}')\n",
    "else:\n",
    "    print(f'{final} não é maior que {n}')"
   ]
  },
  {
   "cell_type": "code",
   "execution_count": 94,
   "metadata": {},
   "outputs": [
    {
     "name": "stdout",
     "output_type": "stream",
     "text": [
      "O menor número é: 142857\n"
     ]
    }
   ],
   "source": [
    "#1.2.25. - CHATGPT\n",
    "n = 1  # Começamos com o menor número inteiro positivo (1)\n",
    "\n",
    "while True:\n",
    "    unidades = n % 10\n",
    "    dezenas_e_acima = n // 10\n",
    "\n",
    "    novo_numero = unidades * (10 ** len(str(dezenas_e_acima))) + dezenas_e_acima\n",
    "\n",
    "    if novo_numero == 5 * n:\n",
    "        print(f\"O menor número é: {n}\")\n",
    "        break\n",
    "    \n",
    "    n += 1"
   ]
  },
  {
   "cell_type": "code",
   "execution_count": 113,
   "metadata": {},
   "outputs": [
    {
     "name": "stdout",
     "output_type": "stream",
     "text": [
      "10 11 12 13 14 15 16 17 18 19 20 \n",
      "6704425728000\n"
     ]
    }
   ],
   "source": [
    "#1.2.26. - ?\n",
    "produto = 1\n",
    "\n",
    "for numero in range(10,31):\n",
    "    if 10 <= numero <= 20:\n",
    "       produto *= numero\n",
    "       print(numero, end=' ')\n",
    "print()\n",
    "print(produto)"
   ]
  }
 ],
 "metadata": {
  "kernelspec": {
   "display_name": "Python 3",
   "language": "python",
   "name": "python3"
  },
  "language_info": {
   "codemirror_mode": {
    "name": "ipython",
    "version": 3
   },
   "file_extension": ".py",
   "mimetype": "text/x-python",
   "name": "python",
   "nbconvert_exporter": "python",
   "pygments_lexer": "ipython3",
   "version": "3.11.5"
  }
 },
 "nbformat": 4,
 "nbformat_minor": 2
}
