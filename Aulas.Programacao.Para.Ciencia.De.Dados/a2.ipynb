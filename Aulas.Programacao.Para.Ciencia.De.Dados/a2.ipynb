{
 "cells": [
  {
   "cell_type": "markdown",
   "metadata": {},
   "source": [
    "# AULA 2. 29-09\n",
    "Prof. Antônio Trigo"
   ]
  },
  {
   "cell_type": "code",
   "execution_count": 1,
   "metadata": {},
   "outputs": [
    {
     "name": "stdout",
     "output_type": "stream",
     "text": [
      "boa tarde!\n",
      "boa tarde!\n"
     ]
    }
   ],
   "source": [
    "print('boa tarde!')\n",
    "print(\"boa tarde!\")\n",
    "#Comentários"
   ]
  },
  {
   "cell_type": "code",
   "execution_count": 10,
   "metadata": {},
   "outputs": [
    {
     "name": "stdout",
     "output_type": "stream",
     "text": [
      "Bem vindo ca!\n",
      "Bem vindo ca !\n",
      "O nome ca tem 2 letras\n"
     ]
    }
   ],
   "source": [
    "#Variável = guardar coisas no programa\n",
    "#String = texto\n",
    "nome = input('Nome?') #Variável nome, irá guardar o nome introduzido pelo utilizador\n",
    "print('Bem vindo ' +  nome+'!') #Concatinar texto\n",
    "print('Bem vindo', nome, '!')\n",
    "print('O nome', nome,'tem', len(nome), 'letras')"
   ]
  },
  {
   "cell_type": "code",
   "execution_count": 3,
   "metadata": {},
   "outputs": [
    {
     "data": {
      "text/plain": [
       "9"
      ]
     },
     "execution_count": 3,
     "metadata": {},
     "output_type": "execute_result"
    }
   ],
   "source": [
    "2+5\n",
    "4+5"
   ]
  },
  {
   "cell_type": "code",
   "execution_count": 4,
   "metadata": {},
   "outputs": [
    {
     "name": "stdout",
     "output_type": "stream",
     "text": [
      "7\n",
      "9\n"
     ]
    }
   ],
   "source": [
    "print(2+5)\n",
    "print(4+5)"
   ]
  },
  {
   "cell_type": "code",
   "execution_count": 5,
   "metadata": {},
   "outputs": [
    {
     "name": "stdout",
     "output_type": "stream",
     "text": [
      "<class 'str'>\n",
      "<class 'int'>\n",
      "<class 'float'>\n",
      "<class 'bool'>\n"
     ]
    }
   ],
   "source": [
    "texto = 'texto' #String\n",
    "num_inteiro = 9 #Int\n",
    "num_real = 9.0 #Float\n",
    "booleano = True or False #Booleano\n",
    "print(type(texto))\n",
    "print(type(num_inteiro))\n",
    "print(type(num_real))\n",
    "print(type(booleano))"
   ]
  },
  {
   "cell_type": "code",
   "execution_count": 6,
   "metadata": {},
   "outputs": [
    {
     "name": "stdout",
     "output_type": "stream",
     "text": [
      "12\n",
      "12\n",
      "12.0\n"
     ]
    }
   ],
   "source": [
    "#Conversão entre tipos de dados\n",
    "texto1 = '12'\n",
    "texto2 = 'a'\n",
    "\n",
    "num1 = int(texto1) #Converte para inteiro\n",
    "print(num1)\n",
    "\n",
    "#num2 = int(texto2) #Não funciona pq o VS capta que 'a' não é número\n",
    "#print(num1)\n",
    "\n",
    "texto3 = str(num1)\n",
    "print(texto3)\n",
    "\n",
    "float1 = float(texto3)\n",
    "print(float1)"
   ]
  },
  {
   "cell_type": "markdown",
   "metadata": {},
   "source": [
    "## REGRAS PARA OS NOMES DAS VARIÁVEIS\n",
    "\n",
    "1. Podem conter letras, números e underscores\n",
    "2. Não podem conter espaços\n",
    "3. Não podem começar com números\n",
    "4. Case sensitive (NOMES é diferente de nome)\n",
    "5. Não podem utilizar palavras reservadas"
   ]
  },
  {
   "cell_type": "code",
   "execution_count": 7,
   "metadata": {},
   "outputs": [
    {
     "ename": "SyntaxError",
     "evalue": "invalid decimal literal (3185506468.py, line 3)",
     "output_type": "error",
     "traceback": [
      "\u001b[1;36m  Cell \u001b[1;32mIn[7], line 3\u001b[1;36m\u001b[0m\n\u001b[1;33m    1a = 9\u001b[0m\n\u001b[1;37m    ^\u001b[0m\n\u001b[1;31mSyntaxError\u001b[0m\u001b[1;31m:\u001b[0m invalid decimal literal\n"
     ]
    }
   ],
   "source": [
    "*a =\n",
    "a1 a2 a3 = 9\n",
    "1a = 9\n",
    "NOME != 9\n",
    "if = "
   ]
  },
  {
   "cell_type": "code",
   "execution_count": null,
   "metadata": {},
   "outputs": [],
   "source": [
    "#Convenção do python utilizar as letras MAIUSCÚLAS - não existem constantes\n",
    "PI = 3.14\n",
    "PI = 66"
   ]
  },
  {
   "cell_type": "code",
   "execution_count": 8,
   "metadata": {},
   "outputs": [
    {
     "name": "stdout",
     "output_type": "stream",
     "text": [
      "Qual seu nome ?\n",
      "carol\n",
      "Quantos anos você tem ?\n",
      "12\n",
      "A carol tem 12 e terá 22 anos em 10 anos\n",
      "A pessoa com o nome carol tem 12 anos e daqui a 10 anos tera 32 anos\n",
      "A pessoa com o nome carol tem12anos e daqui a 10 anos tera 32 anos\n",
      "A pessoa com o nome carol tem 12 anos e daqui a 10 anos tera 32 anos\n"
     ]
    }
   ],
   "source": [
    "#Escrever um programa que peça ao utilizador o seu nome e mostre o nome a idade e a idade daqui a 10 anos\n",
    "\n",
    "# A pessoa com o nome X tem Y anos e daqui a 10 anos terá Z anos\n",
    "\n",
    "nome = input('Nome?') \n",
    "print('Qual seu nome ?')\n",
    "print(nome)\n",
    "\n",
    "str_idade = input('idade?') \n",
    "print('Quantos anos você tem ?')\n",
    "print(str_idade)\n",
    "\n",
    "idade = int(str_idade)\n",
    "\n",
    "#idade10 = idade +10\n",
    "\n",
    "\n",
    "print('A ' + nome + ' tem ' + str_idade + ' e terá', idade +10, 'anos em 10 anos')"
   ]
  },
  {
   "cell_type": "code",
   "execution_count": null,
   "metadata": {},
   "outputs": [
    {
     "name": "stdout",
     "output_type": "stream",
     "text": [
      "A pessoa com o nome carol tem23anos e daqui 10 anos terá 43 anos\n",
      "A pessoa com o nome carol tem 23 anos e daqui 10 anos terá 43 anos\n"
     ]
    }
   ],
   "source": [
    "#RESPOSTA PROFESSOR\n",
    "\n",
    "nome = input('Nome?')\n",
    "str_idade = input ('Idade?')\n",
    "idade = int(str_idade)\n",
    "\n",
    "#Em um passo só: idade = int(int('Idade'))\n",
    "\n",
    "#print(idade+20)\n",
    "#idade10 = idade + 10 #Ou print(idade+10)\n",
    "#print(idade10)\n",
    "\n",
    "#print('A pessoa com o nome', nome, 'tem'+ idade + 'anos e daqui 10 anos terá', idade +20, 'anos')\n",
    "print('A pessoa com o nome', nome, 'tem'+ str(idade) + 'anos e daqui 10 anos terá', idade +20, 'anos')\n",
    "print(f'A pessoa com o nome {nome} tem {idade} anos e daqui 10 anos terá {idade +20} anos')\n"
   ]
  },
  {
   "cell_type": "code",
   "execution_count": null,
   "metadata": {},
   "outputs": [
    {
     "name": "stdout",
     "output_type": "stream",
     "text": [
      "1000.0 usd = 943.40 eur\n"
     ]
    }
   ],
   "source": [
    "#Solicitar valor em usd e mostrar em eur?\n",
    "#'1000 usd = 939 eur'\n",
    "\n",
    "taxa = 1.06\n",
    "usd = float(input('usd?'))\n",
    "eur = usd/taxa\n",
    "\n",
    "print(f'{usd} usd = {eur:.2f} eur') #formatado com 2 casas decimais"
   ]
  },
  {
   "cell_type": "markdown",
   "metadata": {},
   "source": [
    "## CONDIÇÕES"
   ]
  },
  {
   "cell_type": "code",
   "execution_count": 9,
   "metadata": {},
   "outputs": [
    {
     "name": "stdout",
     "output_type": "stream",
     "text": [
      "inst1\n",
      "inst2\n",
      "inst3\n",
      "inst4\n",
      "inst5\n",
      "inst6\n",
      "inst9\n"
     ]
    }
   ],
   "source": [
    "#Saltar partes do código\n",
    "print('inst1')\n",
    "print('inst2')\n",
    "if True:\n",
    "    print('inst3')\n",
    "    print('inst4')\n",
    "    print('inst5')\n",
    "print('inst6')\n",
    "if False: \n",
    "    print('inst7')\n",
    "    print('inst8')\n",
    "print('inst9')"
   ]
  },
  {
   "cell_type": "code",
   "execution_count": 14,
   "metadata": {},
   "outputs": [
    {
     "name": "stdout",
     "output_type": "stream",
     "text": [
      "Aprovado!\n"
     ]
    }
   ],
   "source": [
    "#Condições\n",
    "\n",
    "nota1 = float(input('Nota1'))\n",
    "nota2 = float(input('Nota2'))\n",
    "media = (nota1 + nota2) /2\n",
    "if media >= 9.5:\n",
    "    print('Aprovado!')\n",
    "else:\n",
    "    print('Reprovado!')"
   ]
  }
 ],
 "metadata": {
  "kernelspec": {
   "display_name": "Python 3",
   "language": "python",
   "name": "python3"
  },
  "language_info": {
   "codemirror_mode": {
    "name": "ipython",
    "version": 3
   },
   "file_extension": ".py",
   "mimetype": "text/x-python",
   "name": "python",
   "nbconvert_exporter": "python",
   "pygments_lexer": "ipython3",
   "version": "3.11.5"
  },
  "orig_nbformat": 4
 },
 "nbformat": 4,
 "nbformat_minor": 2
}
