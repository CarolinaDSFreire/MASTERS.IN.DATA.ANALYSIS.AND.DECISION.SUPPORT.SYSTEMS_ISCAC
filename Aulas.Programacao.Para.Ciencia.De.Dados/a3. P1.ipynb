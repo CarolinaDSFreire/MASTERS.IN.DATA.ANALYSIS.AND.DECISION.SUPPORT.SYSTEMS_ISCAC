{
 "cells": [
  {
   "cell_type": "markdown",
   "metadata": {},
   "source": [
    "# AULA 3. 14-10\n",
    "\n",
    "## INTRODUÇÃO DE SELEÇÕES"
   ]
  },
  {
   "cell_type": "code",
   "execution_count": 2,
   "metadata": {},
   "outputs": [
    {
     "name": "stdout",
     "output_type": "stream",
     "text": [
      "Positivo\n",
      "Terminou!\n"
     ]
    }
   ],
   "source": [
    "#Determinar se um numero é positivo\n",
    "numero1 = 19\n",
    "if numero1>0:\n",
    "    print('Positivo')\n",
    "print('Terminou!')\n",
    "#Verificar uma determinada condição, sem necessidade de ter o caso contrário"
   ]
  },
  {
   "cell_type": "code",
   "execution_count": 3,
   "metadata": {},
   "outputs": [
    {
     "name": "stdout",
     "output_type": "stream",
     "text": [
      "Aprovado!\n",
      "Terminou!\n"
     ]
    }
   ],
   "source": [
    "#Exemplo em que queremos fazer coisas caso seja verdade ou mentira\n",
    "nota = 11\n",
    "if nota >= 9.5:\n",
    "    print('Aprovado!')\n",
    "else:\n",
    "    print('Reprovado')\n",
    "print('Terminou!')"
   ]
  },
  {
   "cell_type": "code",
   "execution_count": 4,
   "metadata": {},
   "outputs": [
    {
     "name": "stdout",
     "output_type": "stream",
     "text": [
      "Nulo\n"
     ]
    }
   ],
   "source": [
    "#Exemplo de se aninhados (nested ifs)\n",
    "#Verificar se um numero é positivo, negativo ou (nulo)\n",
    "numero = 0\n",
    "if numero > 0:\n",
    "    print('Positivo!')\n",
    "else:\n",
    "    if numero == 0: #O == é o operador de comparação\n",
    "        print('Nulo')\n",
    "    else:\n",
    "        print('Negativo')"
   ]
  },
  {
   "cell_type": "code",
   "execution_count": 5,
   "metadata": {},
   "outputs": [
    {
     "name": "stdout",
     "output_type": "stream",
     "text": [
      "27.68166089965398\n",
      "Excesso de peso\n"
     ]
    }
   ],
   "source": [
    "#Utilizando o elif\n",
    "#imc\n",
    "altura = 1.70\n",
    "peso = 80\n",
    "imc = peso/(altura**2)\n",
    "\n",
    "print(imc)\n",
    "\n",
    "if imc < 15.5:\n",
    "  print('Magro')\n",
    "elif imc <25:\n",
    "# não precisa: imc >= 18.5\n",
    "    print('Normal')\n",
    "elif imc <30:\n",
    "    print('Excesso de peso')\n",
    "else:\n",
    "    print('Obeso')"
   ]
  },
  {
   "cell_type": "code",
   "execution_count": 6,
   "metadata": {},
   "outputs": [],
   "source": [
    "#Para verificar a dificuldade de escrever condições, ver exercício de determinação se um ano é ou não bissexto"
   ]
  },
  {
   "cell_type": "code",
   "execution_count": 7,
   "metadata": {},
   "outputs": [],
   "source": [
    "#Instrução match parecido com o elif e designada noutras linguagens\n",
    "#como o switch"
   ]
  },
  {
   "cell_type": "markdown",
   "metadata": {},
   "source": [
    "## ESTRUTURA DE REPETIÇÃO\n",
    "\n",
    "As duas estruturas de repetição existentes no Python são o **for** e o **while**\n",
    "\n",
    "*for = conhecemos o número de vezes que queremos repetir tal coisa\n",
    "\n",
    "*while = tem uma condição, não conhecemos o número de vezes que queremos repetir tal coisa"
   ]
  },
  {
   "cell_type": "code",
   "execution_count": 8,
   "metadata": {},
   "outputs": [
    {
     "name": "stdout",
     "output_type": "stream",
     "text": [
      "0 1 2 3 4 5 6 7 8 9 \n",
      "1 2 3 4 5 6 7 8 9 10 \n",
      "1 3 5 7 9 \n",
      "10 9 8 7 6 5 4 3 2 1 "
     ]
    }
   ],
   "source": [
    "## FOR\n",
    "\n",
    "#print('olá'*1000)\n",
    "\n",
    "# Repete 'olá' 10x\n",
    "#for i in range(10):\n",
    "    #print('olá')\n",
    "\n",
    "# A função range gera n números a começar em 0\n",
    "\n",
    "# Mostrar números de 0 a 10 [0,10]\n",
    "for i in range(10):\n",
    "    print(f'{i}', end=' ')\n",
    "\n",
    "# Dá um espaço entre as linhas\n",
    "print()\n",
    "\n",
    "#Mostrar números de 1 a 10 [1,10]\n",
    "for i in range(1,11):\n",
    "    print(f'{i}', end=' ')\n",
    "\n",
    "print()\n",
    "#Mostrar os números ímpares de 1 a 10 [1,10] - pulando de 2 em dois\n",
    "for i in range(1,11,2):\n",
    "    print(f'{i}', end=' ')\n",
    "\n",
    "print()\n",
    "#Mostrar os números de 10 a 1\n",
    "for i in range(10,0,-1):\n",
    "    print (f'{i}', end=' ')"
   ]
  },
  {
   "cell_type": "code",
   "execution_count": 9,
   "metadata": {},
   "outputs": [
    {
     "name": "stdout",
     "output_type": "stream",
     "text": [
      "A nota introduzida foi 15\n"
     ]
    }
   ],
   "source": [
    "##WHILE\n",
    "\n",
    "nota = -1\n",
    "while nota<0 or nota>20:\n",
    "    nota = int(input('nota'))\n",
    "    print(f'A nota introduzida foi {nota}')"
   ]
  },
  {
   "cell_type": "code",
   "execution_count": 10,
   "metadata": {},
   "outputs": [
    {
     "name": "stdout",
     "output_type": "stream",
     "text": [
      "1 2 3 4 5 \n",
      "15\n"
     ]
    }
   ],
   "source": [
    "# Somar os números de 1 a 5 [1,5]\n",
    "\n",
    "soma = 0\n",
    "for i in range(1,6):\n",
    "    soma = soma + i\n",
    "    print(i, end=' ')\n",
    "print()\n",
    "print(soma)"
   ]
  },
  {
   "cell_type": "code",
   "execution_count": 11,
   "metadata": {},
   "outputs": [
    {
     "name": "stdout",
     "output_type": "stream",
     "text": [
      "1 2 3 4 6 12 "
     ]
    }
   ],
   "source": [
    "# Mostrar os divisores de um número\n",
    "\n",
    "numero = 12\n",
    "\n",
    "#1, 2, 3, 4, 6, 12\n",
    "\n",
    "#print(numero%6) #Resto da divisão\n",
    "#print(numero//6) #Divisão por inteiros - retorna a parte inteira do resultado, descartando a parte fracionária\n",
    "#ex: resultado = 7.0 // 3\n",
    "# #print(resultado)\n",
    "\n",
    "for i in range(1,numero+1):\n",
    "    if (numero%i==0):\n",
    "        print(f'{i}', end=' ')"
   ]
  },
  {
   "cell_type": "code",
   "execution_count": 12,
   "metadata": {},
   "outputs": [
    {
     "name": "stdout",
     "output_type": "stream",
     "text": [
      "é primo\n",
      "O número e ciclos foi: 5\n"
     ]
    }
   ],
   "source": [
    "# Algoritmo para saber se o número é primo\n",
    "\n",
    "numero = 7\n",
    "encontrou_divisor = False\n",
    "for i in range(2,numero):\n",
    "    if numero%i==0:\n",
    "            encontrou_dividor = True\n",
    "          \n",
    "if encontrou_divisor:\n",
    "        print('não é primo')\n",
    "else:\n",
    "        print('é primo')\n",
    "print(f'O número e ciclos foi: {numero-2}')"
   ]
  },
  {
   "cell_type": "code",
   "execution_count": 4,
   "metadata": {},
   "outputs": [
    {
     "name": "stdout",
     "output_type": "stream",
     "text": [
      "é primo\n",
      "O número e ciclos foi: 4\n"
     ]
    }
   ],
   "source": [
    "# Algoritmo para saber se o número é primo\n",
    "# Até a raiz quadrada\n",
    "\n",
    "import math\n",
    "\n",
    "numero = 25\n",
    "encontrou_divisor = False\n",
    "for i in range(2,int(math.sqrt(numero))+1):\n",
    "    if numero%i==0:\n",
    "            encontrou_divisor = True\n",
    "          \n",
    "if encontrou_divisor:\n",
    "        print('não é primo')\n",
    "else:\n",
    "        print('é primo')\n",
    "print(f'O número e ciclos foi: {int(math.sqrt(numero))+1-2}')"
   ]
  },
  {
   "cell_type": "code",
   "execution_count": 14,
   "metadata": {},
   "outputs": [
    {
     "name": "stdout",
     "output_type": "stream",
     "text": [
      "é primo\n",
      "O número e ciclos foi: 16\n"
     ]
    }
   ],
   "source": [
    "# Algoritmo para saber se o número é primo\n",
    "# Até a raiz quadrada\n",
    "\n",
    "import math\n",
    "\n",
    "numero = 12563\n",
    "encontrou_divisor = False\n",
    "contar_ciclos = 0\n",
    "for i in range(2,int(math.sqrt(numero))+1):\n",
    "    contar_ciclos += 1 #contar_cilos = contar ciclos+1\n",
    "    if numero%i==0:\n",
    "            encontrou_dividor = True\n",
    "            break #Termina o ciclo fora\n",
    "          \n",
    "if encontrou_divisor:\n",
    "        print('não é primo')\n",
    "else:\n",
    "        print('é primo')\n",
    "print(f'O número e ciclos foi: {contar_ciclos}')"
   ]
  },
  {
   "cell_type": "markdown",
   "metadata": {},
   "source": [
    "## EXERCÍCIOS"
   ]
  },
  {
   "cell_type": "code",
   "execution_count": 15,
   "metadata": {},
   "outputs": [
    {
     "name": "stdout",
     "output_type": "stream",
     "text": [
      "3 6 9 12 15 18 21 24 27 30 \n",
      "3 6 9 12 15 18 21 24 27 30 \n",
      "3 6 9 12 15 18 21 24 27 30 "
     ]
    }
   ],
   "source": [
    "# Imprimir os múltiplos de 3 entre 1 e 30\n",
    "\n",
    "for i in range(3,31,3):\n",
    "    print(i, end=' ')\n",
    "\n",
    "print()\n",
    "for i in range(1,11):  \n",
    "    print(i*3, end =' ')\n",
    "\n",
    "print()\n",
    "for i in range(1,31):\n",
    "    if i%3==0:\n",
    "        print(i, end =' ')\n"
   ]
  },
  {
   "cell_type": "code",
   "execution_count": 16,
   "metadata": {},
   "outputs": [
    {
     "name": "stdout",
     "output_type": "stream",
     "text": [
      "5x1=5\n",
      "5x2=10\n",
      "5x3=15\n",
      "5x4=20\n",
      "5x5=25\n",
      "5x6=30\n",
      "5x7=35\n",
      "5x8=40\n",
      "5x9=45\n",
      "5x10=50\n"
     ]
    }
   ],
   "source": [
    "# Imprimir a tabuada do 5 [1 a 10]\n",
    "#5x1=5 [....]\n",
    "\n",
    "for i in range(1,11):  \n",
    "    print(f'{5}x{i}={5*i}')"
   ]
  },
  {
   "cell_type": "code",
   "execution_count": 17,
   "metadata": {},
   "outputs": [
    {
     "name": "stdout",
     "output_type": "stream",
     "text": [
      "* * * * * * \n",
      "* * * * * * \n",
      "* * * * * * \n",
      "* * * * * * \n",
      "* * * * * * \n",
      "* * * * * * \n",
      "\n",
      "* * * * * * \n",
      "*         * \n",
      "*         * \n",
      "*         * \n",
      "*         * \n",
      "* * * * * * \n"
     ]
    }
   ],
   "source": [
    "# Colocar um quadrado de asteriscos no ecrã\n",
    "\n",
    "numero = 6\n",
    "for i in range(numero):\n",
    "    for J in range(numero):\n",
    "        print('*', end = ' ')\n",
    "\n",
    "    print()\n",
    "\n",
    "print()\n",
    "\n",
    "numero = 6\n",
    "for i in range(numero):\n",
    "    for J in range(numero):\n",
    "        if i==0 or i==numero-1 or J==0 or J==numero-1:\n",
    "            print('*', end = ' ')\n",
    "        else:\n",
    "            print(' ', end=' ')\n",
    "    print()"
   ]
  },
  {
   "cell_type": "markdown",
   "metadata": {},
   "source": [
    "### JOGO ADIVINHA"
   ]
  },
  {
   "cell_type": "code",
   "execution_count": 1,
   "metadata": {},
   "outputs": [
    {
     "name": "stdout",
     "output_type": "stream",
     "text": [
      "Parabéns, acertou! Número de tentativas: 1.\n"
     ]
    }
   ],
   "source": [
    "# A ideia do jogo do advinho é adivinhar um número gerado aleatoriamente pelo computador entre [1,100]\n",
    "\n",
    "# Escolhemos o número\n",
    "numero = 7\n",
    "palpite = -1\n",
    "contar = 0\n",
    "\n",
    "while numero!=palpite:\n",
    "    palpite = int(input('Insira um numero: '))\n",
    "    contar += 1\n",
    "    if palpite <numero:\n",
    "        print('Insira um número maior')\n",
    "    if palpite>numero:\n",
    "        print('Insira um número menor')\n",
    "print(f'Parabéns, acertou! Número de tentativas: {contar}.')"
   ]
  },
  {
   "cell_type": "code",
   "execution_count": 2,
   "metadata": {},
   "outputs": [
    {
     "name": "stdout",
     "output_type": "stream",
     "text": [
      "Insira um número maior\n",
      "Insira um número maior\n",
      "Insira um número maior\n",
      "Insira um número maior\n",
      "Insira um número menor\n",
      "Insira um número maior\n",
      "Insira um número maior\n",
      "Insira um número menor\n",
      "Parabéns, acertou! Número de tentativas: 9.\n"
     ]
    }
   ],
   "source": [
    "#A biblioteca escolhe o número\n",
    "\n",
    "import random\n",
    "numero = random.randint(1,100)\n",
    "palpite = -1\n",
    "contar = 0\n",
    "\n",
    "while numero!=palpite:\n",
    "    palpite = int(input('Insira um numero: '))\n",
    "    contar += 1\n",
    "    if palpite <numero:\n",
    "        print('Insira um número maior')\n",
    "    if palpite>numero:\n",
    "        print('Insira um número menor')\n",
    "print(f'Parabéns, acertou! Número de tentativas: {contar}.')"
   ]
  }
 ],
 "metadata": {
  "kernelspec": {
   "display_name": "Python 3",
   "language": "python",
   "name": "python3"
  },
  "language_info": {
   "codemirror_mode": {
    "name": "ipython",
    "version": 3
   },
   "file_extension": ".py",
   "mimetype": "text/x-python",
   "name": "python",
   "nbconvert_exporter": "python",
   "pygments_lexer": "ipython3",
   "version": "3.11.5"
  }
 },
 "nbformat": 4,
 "nbformat_minor": 2
}
