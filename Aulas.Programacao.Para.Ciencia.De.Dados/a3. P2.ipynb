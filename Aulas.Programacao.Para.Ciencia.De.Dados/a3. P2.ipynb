{
 "cells": [
  {
   "cell_type": "markdown",
   "metadata": {},
   "source": [
    "# AULA 3. 14-10 (PARTE 2)\n",
    "\n",
    "## TIPOS DE DADOS ESTRUTURADOS\n",
    "\n",
    "Listas. Tuplos. Dicionarios. Conjuntos(Sets)"
   ]
  },
  {
   "cell_type": "code",
   "execution_count": 9,
   "metadata": {},
   "outputs": [
    {
     "name": "stdout",
     "output_type": "stream",
     "text": [
      "[1, 2, 'miguel', True, 3.45]\n",
      "\n",
      "miguel\n",
      "\n",
      "[1, 2, 9, True, 3.45]\n"
     ]
    }
   ],
   "source": [
    "lst_a = [1,2,'miguel', True,3.45]\n",
    "print(lst_a)\n",
    "\n",
    "print()\n",
    "print(lst_a[2]) # Imprime a 2ª posição\n",
    "\n",
    "print()\n",
    "lst_a[2] = 9 # Substitui o 'Miguel' por 9 - 2ª posição\n",
    "print(lst_a)"
   ]
  },
  {
   "cell_type": "code",
   "execution_count": 1,
   "metadata": {},
   "outputs": [
    {
     "name": "stdout",
     "output_type": "stream",
     "text": [
      "[1, 2, 3, ['macas', 'peras', 'alérces'], True, 'miguel']\n",
      "['macas', 'peras', 'alérces']\n",
      "peras\n"
     ]
    }
   ],
   "source": [
    "lst_b = [1,2,3,['macas','peras','alérces'], True,'miguel']\n",
    "print(lst_b)\n",
    "print(lst_b[3]) # Imprime a lista dentro da lista\n",
    "print(lst_b[3][1]) # Imprime a posição específica da 2ª lista"
   ]
  },
  {
   "cell_type": "code",
   "execution_count": 42,
   "metadata": {},
   "outputs": [
    {
     "name": "stdout",
     "output_type": "stream",
     "text": [
      "6\n",
      "\n",
      "[1, 2, 3]\n",
      "[1, 2, 3]\n",
      "[1, 2, 3]\n",
      "\n",
      "[8, 9, 10]\n",
      "\n",
      "[8, 9, 10]\n",
      "\n",
      "10\n",
      "[2, 4, 6, 8, 10]\n"
     ]
    }
   ],
   "source": [
    "lst_c = [1,2,3,4,5,6,7,8,9,10]\n",
    "print(lst_c[5]) # Mostra número 6 - posição 5 - a contagem começa em 0\n",
    "\n",
    "print()\n",
    "print(lst_c[0:3:1]) # Mostra os 3 primeiros números\n",
    "print(lst_c[0:3]) # Mostra os 3 primeiros números\n",
    "print(lst_c[:3]) # Mostra os 3 primeiros números\n",
    "\n",
    "\n",
    "print()\n",
    "print(lst_c[7:]) # Mostra os 3 últimos números\n",
    "\n",
    "print()\n",
    "print(lst_c[-3:]) # Mostrar os 3 últimos números\n",
    "\n",
    "print()\n",
    "print(lst_c[-1]) # Mostrar o último número\n",
    "\n",
    "print(lst_c[1::2]) # Mostrar os números que estã nas **posições** ímpares\n"
   ]
  },
  {
   "cell_type": "code",
   "execution_count": 53,
   "metadata": {},
   "outputs": [
    {
     "name": "stdout",
     "output_type": "stream",
     "text": [
      "81\n",
      "\n",
      "81\n",
      "\n",
      "45\n"
     ]
    }
   ],
   "source": [
    "lst_d = [5,6,7,8,9,10,11,12,13]\n",
    "\n",
    "print(sum(lst_d)) # Soma de tudo\n",
    "\n",
    "print()\n",
    "soma= 0\n",
    "for ele in lst_d:\n",
    "    soma += ele #cada elemento da lista\n",
    "print(soma)\n",
    "\n",
    "print()\n",
    "print(sum(lst_d[0::2])) # Soma apenas dos números ímpares\n"
   ]
  },
  {
   "cell_type": "code",
   "execution_count": 54,
   "metadata": {},
   "outputs": [
    {
     "name": "stdout",
     "output_type": "stream",
     "text": [
      "58\n"
     ]
    }
   ],
   "source": [
    "lst_d = [5,6,7,8,9,10,11,12,13,13] # Números sem posição definida (pares/ímpares)\n",
    "\n",
    "soma= 0\n",
    "for ele in lst_d:\n",
    "    if (ele%2!=0): # Resto da divisão é diferente de 0\n",
    "        soma += ele #cada elemento da lista\n",
    "print(soma)"
   ]
  },
  {
   "cell_type": "code",
   "execution_count": 77,
   "metadata": {},
   "outputs": [
    {
     "name": "stdout",
     "output_type": "stream",
     "text": [
      "True\n"
     ]
    }
   ],
   "source": [
    "# Função para saber se o número é primo\n",
    "\n",
    "import math # O objetivo da função é devolver True ou False - é ou não primo\n",
    "def eprimo(numero):\n",
    "    for i in range(2,int(math.sqrt(numero))+1):\n",
    "        if numero%i==0:\n",
    "            return False\n",
    "    return True\n",
    "\n",
    "\n",
    "print(eprimo(5))"
   ]
  },
  {
   "cell_type": "code",
   "execution_count": 78,
   "metadata": {},
   "outputs": [
    {
     "name": "stdout",
     "output_type": "stream",
     "text": [
      "49\n"
     ]
    }
   ],
   "source": [
    "# Somar os primos\n",
    "lst_d = [5,6,7,8,9,10,11,12,13,13]\n",
    "soma=0\n",
    "for ele in lst_d:\n",
    "    if eprimo(ele): # Executa a função acima para saber se quais números da lista são primos\n",
    "        soma += ele #cada elemento da lista\n",
    "print(soma)"
   ]
  }
 ],
 "metadata": {
  "kernelspec": {
   "display_name": "Python 3",
   "language": "python",
   "name": "python3"
  },
  "language_info": {
   "codemirror_mode": {
    "name": "ipython",
    "version": 3
   },
   "file_extension": ".py",
   "mimetype": "text/x-python",
   "name": "python",
   "nbconvert_exporter": "python",
   "pygments_lexer": "ipython3",
   "version": "3.11.5"
  }
 },
 "nbformat": 4,
 "nbformat_minor": 2
}
