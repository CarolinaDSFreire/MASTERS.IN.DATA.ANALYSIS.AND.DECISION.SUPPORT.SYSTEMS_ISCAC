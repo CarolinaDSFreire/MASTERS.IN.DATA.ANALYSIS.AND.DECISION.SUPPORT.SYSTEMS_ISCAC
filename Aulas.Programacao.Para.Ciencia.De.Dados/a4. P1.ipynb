{
 "cells": [
  {
   "cell_type": "markdown",
   "metadata": {},
   "source": [
    "# AULA 4. 21-10 (PARTE1)\n",
    "\n",
    "## TIPOS DE DADOS ESTRUTURADOS\n",
    "\n",
    "Listas. Tuplos. Dicionarios. Conjuntos(Sets). Datetime"
   ]
  },
  {
   "cell_type": "code",
   "execution_count": 3,
   "metadata": {},
   "outputs": [
    {
     "name": "stdout",
     "output_type": "stream",
     "text": [
      "5\n",
      "15\n"
     ]
    }
   ],
   "source": [
    "# Função soma recebe dois parâmetros e devolve a soma\n",
    "def soma (a,b):\n",
    "    return a+b\n",
    "print(soma(2,3))\n",
    "c = 9\n",
    "d = 6\n",
    "print(soma(c,d))"
   ]
  },
  {
   "cell_type": "code",
   "execution_count": 7,
   "metadata": {},
   "outputs": [
    {
     "name": "stdout",
     "output_type": "stream",
     "text": [
      "(1, 2)\n",
      "2\n",
      "1\n",
      "p1_x: 1\n"
     ]
    }
   ],
   "source": [
    "# Devolve 2 valores de uma função - Tuplos - não dá pra mudar a posição dos valores\n",
    "def ponto(x,y):\n",
    "    return x,y\n",
    "\n",
    "print(ponto(1,2))\n",
    "\n",
    "p1 = ponto(1,2)\n",
    "print(p1[1])\n",
    "\n",
    "p1_x, p1_y = ponto(1,2) #dividido por posição\n",
    "print(p1_x)\n",
    "print(f'p1_x: {p1_x}')\n",
    "e\n",
    "def semparametros(): #Não precisa ter parametros\n",
    "    return 9\n",
    "print(semparametros())"
   ]
  },
  {
   "cell_type": "code",
   "execution_count": 10,
   "metadata": {},
   "outputs": [
    {
     "name": "stdout",
     "output_type": "stream",
     "text": [
      "9\n"
     ]
    }
   ],
   "source": [
    "#Função lambda - funções anómnimas, sem nome - usadas em listas de compreensão\n",
    "\n",
    "#lambda x:x**2 #para cada x vai devolver x ao quadrado\n",
    "#lambda x,y: x+y\n",
    "\n",
    "quadrado = lambda x:x**2\n",
    "print(quadrado(3)) #devolve 3 ao quadrado"
   ]
  },
  {
   "cell_type": "code",
   "execution_count": 26,
   "metadata": {},
   "outputs": [
    {
     "name": "stdout",
     "output_type": "stream",
     "text": [
      "2 != 2\n",
      "3 != 6\n",
      "5 != 120\n",
      "1 != 1\n",
      "0 != 1\n"
     ]
    }
   ],
   "source": [
    "#Cálculo do fatorial de um número\n",
    "\n",
    "#5!=5x4x3x2x1\n",
    "#1!=1\n",
    "#0!=1\n",
    "\n",
    "def fat1 (numero):\n",
    "    if numero == 1 or numero == 0:\n",
    "        return 1\n",
    "    fatorial = 1\n",
    "    for i in range(1,numero+1):\n",
    "        fatorial*=i\n",
    "    return fatorial\n",
    "    \n",
    "lst_teste = [2,3,5,1,0]\n",
    "for ele in lst_teste:\n",
    "    print(f'{ele} != {fat1(ele)}')"
   ]
  },
  {
   "cell_type": "code",
   "execution_count": 27,
   "metadata": {},
   "outputs": [
    {
     "name": "stdout",
     "output_type": "stream",
     "text": [
      "Com uma função recursiva!\n",
      "2!=2\n",
      "3!=6\n",
      "5!=120\n",
      "1!=1\n",
      "0!=1\n"
     ]
    }
   ],
   "source": [
    "#5! = 5 * 4! - outro jeito de escrever a mesma coisa\n",
    "def fat2(numero):\n",
    "    if numero == 1 or numero == 0:\n",
    "        return 1 \n",
    "    return numero * fat2(numero-1)\n",
    "\n",
    "print('Com uma função recursiva!')\n",
    "for ele in lst_teste:\n",
    "    print(f'{ele}!={fat2(ele)}')"
   ]
  },
  {
   "cell_type": "code",
   "execution_count": 37,
   "metadata": {},
   "outputs": [
    {
     "name": "stdout",
     "output_type": "stream",
     "text": [
      "[4, 5, 7]\n",
      "4\n",
      "7\n",
      "3\n",
      "5\n"
     ]
    }
   ],
   "source": [
    "#Definimos uma lista em concreto \n",
    "\n",
    "lst1 = [2,3,4,5,6,90]\n",
    "\n",
    "#Definir uma lista vazia e adicionar elementos intriduzidos pelo utilizador\n",
    "lst2 = []\n",
    "numero = -1\n",
    "while numero!=0:\n",
    "    numero = int(input('num')) #append adiciona elementos à lista perguntando ao utilizador\n",
    "    if numero != 0:\n",
    "        lst2.append(numero)\n",
    "print(lst2)\n",
    "\n",
    "print(min(lst2))\n",
    "print(max(lst2))\n",
    "print(len(lst2))\n",
    "#print(lst2[len(lst2)//2]) #dá pra misturar uma série de funções\n"
   ]
  },
  {
   "cell_type": "code",
   "execution_count": 43,
   "metadata": {},
   "outputs": [
    {
     "name": "stdout",
     "output_type": "stream",
     "text": [
      "[2, 3, 4, 5, 6, 7, 8, 9, 10]\n",
      "[4, 9, 16, 25, 36, 49, 64, 81, 100]\n",
      "[16, 81, 256, 625, 1296, 2401, 4096, 6561, 10000]\n"
     ]
    }
   ],
   "source": [
    "# Lista de compreensão - criar lista a partir de outras listas\n",
    "#novalista = [expressão fir intem in list if condição == True]\n",
    "\n",
    "lst3 = [2,3,4,5,6,7,8,9,10]\n",
    "print(lst3)\n",
    "\n",
    "for i in range(len(lst3)):\n",
    "    lst3[i] = lst3[i]**2\n",
    "print(lst3) #lst3 ao quadrado\n",
    "\n",
    "lst4 = [x**2 for x in lst3]\n",
    "print(lst4)"
   ]
  },
  {
   "cell_type": "code",
   "execution_count": 51,
   "metadata": {},
   "outputs": [
    {
     "name": "stdout",
     "output_type": "stream",
     "text": [
      "[4, 16, 36, 64, 100]\n",
      "[12, 14, 16, 18, 20]\n"
     ]
    }
   ],
   "source": [
    "# Colocar uma lista com os elementos pares ao quadrado \n",
    "\n",
    "lst3 = [2,3,4,5,6,7,8,9,10]\n",
    "lst5 = [x**2 for x in lst3 if x%2==0] #cria lista a partir de lista e cria condição\n",
    "print(lst5)\n",
    "\n",
    "lst6 = [x+10 for x in lst3 if x%2==0]\n",
    "print(lst6)"
   ]
  },
  {
   "cell_type": "code",
   "execution_count": 55,
   "metadata": {},
   "outputs": [
    {
     "name": "stdout",
     "output_type": "stream",
     "text": [
      "[3, 5, 7, 9]\n",
      "[9, 25, 49, 81]\n"
     ]
    }
   ],
   "source": [
    "# Filter - filtrar as listas\n",
    "\n",
    "lst3 = [2,3,4,5,6,7,8,9,10]\n",
    "\n",
    "lst4 = list(filter(lambda x: x % 2 !=0, lst3)) #elementos ímpares\n",
    "print(lst4)\n",
    "\n",
    "# Map - atribui função aos elementos da lista\n",
    "lst5 = list(map(lambda x:x**2, lst4))\n",
    "print(lst5)"
   ]
  },
  {
   "cell_type": "code",
   "execution_count": 58,
   "metadata": {},
   "outputs": [
    {
     "name": "stdout",
     "output_type": "stream",
     "text": [
      "3\n"
     ]
    }
   ],
   "source": [
    "#Tuplos - similares as listas, mas imutáveis\n",
    "\n",
    "a =(2,3,4,5)\n",
    "print(a[1])\n",
    "\n",
    "# a[2] = 9 - dá erro - 'tuple' object does not support item assignment"
   ]
  },
  {
   "cell_type": "code",
   "execution_count": 79,
   "metadata": {},
   "outputs": [
    {
     "name": "stdout",
     "output_type": "stream",
     "text": [
      "2\n",
      "2\n",
      "OLA BOM DIA\n",
      "ol* bom di*\n",
      "ol* bom\n"
     ]
    }
   ],
   "source": [
    "# Contar elementos da string\n",
    "tr1 = 'ola bom dia'\n",
    "contar = 0\n",
    "#for i in range(len(str1)):\n",
    "for ele in str1:\n",
    "    if ele == 'a':\n",
    "        contar +=1\n",
    "print(contar)\n",
    "\n",
    "print(str1.count('a'))\n",
    "print(str1.upper())\n",
    "print(str1.replace('a', '*'))\n",
    "\n",
    "\n",
    "str2 = str1.replace('a', '*')\n",
    "print(str2[:7])"
   ]
  },
  {
   "cell_type": "code",
   "execution_count": 92,
   "metadata": {},
   "outputs": [
    {
     "name": "stdout",
     "output_type": "stream",
     "text": [
      "23\n",
      "maça\n",
      "pera\n",
      "[{'nome': 'antionio', 'idade': 23, 'peso': 90}, {'nome': 'antionio', 'idade': 23, 'peso': 90}, {'a': 'maça', 'b': 'pera', 'c': 'banana'}]\n"
     ]
    }
   ],
   "source": [
    "#formato csv (Comma Separated Values) antonio,23.90.150\n",
    "# formato JSON (Javascript Objct Notation) {'nome':'antonio','idade':23,}\n",
    "\n",
    "#Dicionários - conjunto de itens do tipo chave e valor - acede a partir da chave\n",
    "dct1 = {'nome':'antionio', 'idade':23, 'peso':90}\n",
    "dct2 = {'a':'maça','b':'pera','c':'banana'}\n",
    "dct3 = {1:'maça',0:'pera',2:'banana'}\n",
    "\n",
    "print(dct1['idade'])\n",
    "print(dct2['a'])\n",
    "print(dct3[0])\n",
    "\n",
    "lst1 =[dct1,dct1,dct2]\n",
    "print(lst1)"
   ]
  },
  {
   "cell_type": "code",
   "execution_count": 107,
   "metadata": {},
   "outputs": [
    {
     "name": "stdout",
     "output_type": "stream",
     "text": [
      "[{'nome': 'antionio', 'idade': 23, 'peso': 90}, {'nome': 'miguel', 'idade': 12, 'peso': 50}, {'nome': 'joao', 'idade': 15, 'peso': 70}]\n",
      "antionio, 23, 90\n",
      "miguel, 12, 50\n",
      "joao, 15, 70\n"
     ]
    }
   ],
   "source": [
    "p1 = {'nome':'antionio', 'idade':23, 'peso':90}\n",
    "p2 = {'nome':'miguel', 'idade':12, 'peso':50}\n",
    "p3 = {'nome':'joao', 'idade':15, 'peso':70}\n",
    "\n",
    "lst1 = []\n",
    "lst1.append(p1)\n",
    "lst1.append(p2) #append é usado para adicionar um elemento ao final de uma lista em Python\n",
    "lst1.append(p3)\n",
    "print(lst1)\n",
    "\n",
    "for ele in lst1: #imprime sem a chave\n",
    "    print(f'{ele[\"nome\"]}, {ele[\"idade\"]}, {ele[\"peso\"]}')"
   ]
  },
  {
   "cell_type": "code",
   "execution_count": 126,
   "metadata": {},
   "outputs": [
    {
     "name": "stdout",
     "output_type": "stream",
     "text": [
      "{'nome': 'peperoni', 'ingredientes': ['massa', 'queijo', 'tomate', 'chorizo italiano']}\n",
      "A pizza é peperoni e tem os seguintes ingredientes: massa, queijo, tomate, chorizo italiano, \n",
      "massa, queijo, tomate, chorizo italiano "
     ]
    }
   ],
   "source": [
    "dict_pizza = {'nome':'peperoni', 'ingredientes':\n",
    "              ['massa','queijo','tomate','chorizo italiano']}\n",
    "print(dict_pizza)\n",
    "\n",
    "print(f'A pizza é {dict_pizza[\"nome\"]} e tem os seguintes ingredientes:', end=' ')\n",
    "\n",
    "\n",
    "for ele in dict_pizza['ingredientes']:\n",
    "    print(f'{ele},', end=' ')\n",
    "\n",
    "print()\n",
    "for i in range(len(dict_pizza['ingredientes'])):\n",
    "    if i != len(dict_pizza['ingredientes'])-1:\n",
    "        print(f'{dict_pizza[\"ingredientes\"][i]},', end=' ')\n",
    "    else:\n",
    "        print(f'{dict_pizza[\"ingredientes\"][i]}', end=' ')"
   ]
  },
  {
   "cell_type": "code",
   "execution_count": 129,
   "metadata": {},
   "outputs": [
    {
     "name": "stdout",
     "output_type": "stream",
     "text": [
      "['massa', 'queijo', 'tomate', 'chorizo italiano']\n",
      "['chorizo italiano', 'massa', 'queijo', 'tomate']\n"
     ]
    }
   ],
   "source": [
    "#Ordem alfabética\n",
    "dict_pizza['ingredientes'] = ['massa','queijo','tomate','chorizo italiano']\n",
    "print(dict_pizza['ingredientes'])\n",
    "dict_pizza['ingredientes'].sort()\n",
    "print(dict_pizza['ingredientes'])"
   ]
  },
  {
   "cell_type": "code",
   "execution_count": 178,
   "metadata": {},
   "outputs": [
    {
     "name": "stdout",
     "output_type": "stream",
     "text": [
      "2023-10-21 16:05:40.520007\n",
      "2023-10-28 16:05:40.520007\n",
      "28\n",
      "28-10-2023\n",
      "2023-10-28\n"
     ]
    }
   ],
   "source": [
    "#DATAS\n",
    "import datetime\n",
    "\n",
    "hora_atual = datetime.datetime.now()\n",
    "print(hora_atual)\n",
    "\n",
    "#Data daqui uma semana\n",
    "\n",
    "dia_atual = datetime.datetime.now()\n",
    "dia_daqui_umasemana = dia_atual + datetime.timedelta(days = 7)\n",
    "\n",
    "print(dia_daqui_umasemana)\n",
    "print(dia_daqui_umasemana.day)\n",
    "\n",
    "print(f'{dia_daqui_umasemana.day}-{dia_daqui_umasemana.month}-{dia_daqui_umasemana.year}')\n",
    "\n",
    "print(f'{dia_daqui_umasemana.date()}')"
   ]
  },
  {
   "cell_type": "markdown",
   "metadata": {},
   "source": [
    "## TRATAMENTO DE ERROS"
   ]
  },
  {
   "cell_type": "code",
   "execution_count": 190,
   "metadata": {},
   "outputs": [
    {
     "name": "stdout",
     "output_type": "stream",
     "text": [
      "18\n"
     ]
    }
   ],
   "source": [
    "while True:\n",
    "    try:\n",
    "        a=int(input('insira um número'))\n",
    "        print(a+10)\n",
    "        break # Se não consegue, fica repetindo\n",
    "    except:\n",
    "        print('não funionou, não precisa reiniciar o computador')\n",
    "        pass #apenas passa, mas verifica o erro\n"
   ]
  },
  {
   "cell_type": "code",
   "execution_count": 193,
   "metadata": {},
   "outputs": [],
   "source": [
    "try:\n",
    "    print (5/0)\n",
    "except:\n",
    "    pass"
   ]
  }
 ],
 "metadata": {
  "kernelspec": {
   "display_name": "Python 3",
   "language": "python",
   "name": "python3"
  },
  "language_info": {
   "codemirror_mode": {
    "name": "ipython",
    "version": 3
   },
   "file_extension": ".py",
   "mimetype": "text/x-python",
   "name": "python",
   "nbconvert_exporter": "python",
   "pygments_lexer": "ipython3",
   "version": "3.11.5"
  }
 },
 "nbformat": 4,
 "nbformat_minor": 2
}
