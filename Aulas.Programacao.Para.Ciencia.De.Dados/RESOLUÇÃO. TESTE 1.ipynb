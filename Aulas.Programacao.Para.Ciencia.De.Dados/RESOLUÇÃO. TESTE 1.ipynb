{
 "cells": [
  {
   "cell_type": "markdown",
   "metadata": {},
   "source": [
    "# RESOLUÇÃO TESTE 1"
   ]
  },
  {
   "cell_type": "markdown",
   "metadata": {},
   "source": [
    "## QUESTÃO 01"
   ]
  },
  {
   "cell_type": "code",
   "execution_count": 8,
   "metadata": {},
   "outputs": [
    {
     "name": "stdout",
     "output_type": "stream",
     "text": [
      "94.5\n",
      "O valor final da compra é 94.5\n"
     ]
    }
   ],
   "source": [
    "valor = int(input('Qual é o valor da compra?'))\n",
    "\n",
    "total = 0\n",
    "if valor >= 100:\n",
    "    valor -= valor * 10/100\n",
    "    total = total + valor\n",
    "else:\n",
    "    valor -= valor * 5/100\n",
    "    total = total + valor\n",
    "\n",
    "print(f'O valor final da compra é {total}')"
   ]
  },
  {
   "cell_type": "markdown",
   "metadata": {},
   "source": [
    "## QUESTÃO 02"
   ]
  },
  {
   "cell_type": "code",
   "execution_count": 8,
   "metadata": {},
   "outputs": [
    {
     "name": "stdout",
     "output_type": "stream",
     "text": [
      " O valor final da compra é 15\n"
     ]
    }
   ],
   "source": [
    "total = 0\n",
    "count = 0\n",
    "\n",
    "while count <3:\n",
    "    idade = int(input('Qual é a sua idade?'))\n",
    "\n",
    "    if 0 <= idade <= 120:\n",
    "        if idade <= 12:\n",
    "            valor1 = 5\n",
    "            total += valor1\n",
    "        elif idade <= 17:\n",
    "            valor2 = 8\n",
    "            total += valor2\n",
    "        elif idade <= 64:\n",
    "            valor3 = 12\n",
    "            total +=  valor3\n",
    "        else:\n",
    "            valor4 = 6\n",
    "            total += valor4\n",
    "\n",
    "        count += 1\n",
    "\n",
    "    else:\n",
    "        print('A idade deve estar entre 0 e 120.')\n",
    "        \n",
    "print(f' O valor final da compra é {total}')"
   ]
  },
  {
   "cell_type": "code",
   "execution_count": null,
   "metadata": {},
   "outputs": [],
   "source": [
    "total = 0\n",
    "\n",
    "for _ in range(3):\n",
    "    while True:\n",
    "        idade = int(input('Qual é a sua idade?'))\n",
    "        if 0 <= idade <= 120:\n",
    "            break\n",
    "        else:\n",
    "            print('A idade deve estar entre 0 e 120.')\n",
    "\n",
    "    if idade <= 12:\n",
    "        valor1 = 5\n",
    "        total += valor1\n",
    "    elif idade <= 17:\n",
    "        valor2 = 8\n",
    "        total += valor2\n",
    "    elif idade <= 64:\n",
    "        valor3 = 12\n",
    "        total += valor3\n",
    "    else:\n",
    "        valor4 = 6\n",
    "        total += valor4\n",
    "\n",
    "print(f'Total: {total}')"
   ]
  },
  {
   "cell_type": "markdown",
   "metadata": {},
   "source": [
    "## QUESTÃO 03"
   ]
  },
  {
   "cell_type": "code",
   "execution_count": 15,
   "metadata": {},
   "outputs": [
    {
     "name": "stdout",
     "output_type": "stream",
     "text": [
      "Média dos elementos nas posições de índice par: 5.5\n"
     ]
    }
   ],
   "source": [
    "#CHATGPT\n",
    "lst_a = [1, 2, 3, 4, 5, 6, 7, 8, 9, 10]\n",
    "\n",
    "# Filtrar os elementos nas posições de índice par (0, 2, 4, 6, 8)\n",
    "elementos_pares = lst_a[::2]\n",
    "\n",
    "# Calcular a média desses elementos\n",
    "media = sum(elementos_pares) / len(elementos_pares)\n",
    "\n",
    "print(f'Média dos elementos nas posições de índice par: {media}')\n"
   ]
  },
  {
   "cell_type": "markdown",
   "metadata": {},
   "source": [
    "## QUESTÃO 04"
   ]
  },
  {
   "cell_type": "code",
   "execution_count": 23,
   "metadata": {},
   "outputs": [
    {
     "name": "stdout",
     "output_type": "stream",
     "text": [
      "Seq: [1, 1, 1, 2, 2, 2, 3, 3, 4, 5]\n",
      "Tam: 10\n"
     ]
    }
   ],
   "source": [
    "lst_b = [1,2,3,1,2,3,4,5,1,2]\n",
    "\n",
    "\n",
    "ordem = sorted(lst_b)\n",
    "print(f'Seq: {ordem}')\n",
    "\n",
    "numero_ele = len(lst_b)\n",
    "print(f'Tam: {numero_ele}')"
   ]
  }
 ],
 "metadata": {
  "kernelspec": {
   "display_name": "Python 3",
   "language": "python",
   "name": "python3"
  },
  "language_info": {
   "codemirror_mode": {
    "name": "ipython",
    "version": 3
   },
   "file_extension": ".py",
   "mimetype": "text/x-python",
   "name": "python",
   "nbconvert_exporter": "python",
   "pygments_lexer": "ipython3",
   "version": "3.11.5"
  }
 },
 "nbformat": 4,
 "nbformat_minor": 2
}
